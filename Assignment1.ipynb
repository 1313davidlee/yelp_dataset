{
 "cells": [
  {
   "cell_type": "code",
   "execution_count": null,
   "metadata": {},
   "outputs": [],
   "source": [
    "import json\n",
    "import pandas as pd\n",
    "\n",
    "path = \"/Users/David/Desktop/\"\n",
    "data2 = []\n",
    "for l in open(path+\"tip.json\").readlines():\n",
    "    data = json.loads(l) #from json string to python dictionary\n",
    "    data2.append(data)"
   ]
  },
  {
   "cell_type": "code",
   "execution_count": null,
   "metadata": {},
   "outputs": [],
   "source": [
    "# Part 1\n",
    "print(len(data2))"
   ]
  },
  {
   "cell_type": "code",
   "execution_count": null,
   "metadata": {},
   "outputs": [],
   "source": [
    "# Part 2\n",
    "dictionary = {}\n",
    "for tip in data2:\n",
    "    text = tip['text']\n",
    "    length = len(text)\n",
    "    if length in dictionary:\n",
    "        dictionary[length] += 1\n",
    "    else:\n",
    "        dictionary[length] = 1\n",
    "\n",
    "max_len = max(dictionary.keys())\n",
    "print(dictionary[max_len])"
   ]
  },
  {
   "cell_type": "code",
   "execution_count": null,
   "metadata": {},
   "outputs": [],
   "source": [
    "print(data2[0])\n"
   ]
  },
  {
   "cell_type": "code",
   "execution_count": null,
   "metadata": {},
   "outputs": [],
   "source": [
    "import numpy as np\n",
    "\n",
    "# Part 3\n",
    "\n",
    "users_dictionary = {}\n",
    "for tip in data2:\n",
    "    user = tip['user_id']\n",
    "    if user in users_dictionary:\n",
    "        users_dictionary[user] += 1\n",
    "    else:\n",
    "        users_dictionary[user] = 1\n",
    "\n",
    "counts = list(users_dictionary.values())\n",
    "avg = np.mean(counts)\n",
    "std = np.std(counts)\n",
    "\n",
    "print(avg, std)\n",
    "\n",
    "excellent_cutoff = avg + 6*std\n",
    "\n",
    "num_excellent_users = 0\n",
    "for key in users_dictionary:\n",
    "    if users_dictionary[key] > excellent_cutoff:\n",
    "        num_excellent_users += 1\n",
    "\n",
    "print(\"num_excellent_users\", num_excellent_users)"
   ]
  },
  {
   "cell_type": "code",
   "execution_count": null,
   "metadata": {},
   "outputs": [],
   "source": [
    "# Part 4\n",
    "businesses_dictionary = {}\n",
    "for tip in data2:\n",
    "    business = tip['business_id']\n",
    "    if business in businesses_dictionary:\n",
    "        businesses_dictionary[business] += 1\n",
    "    else:\n",
    "        businesses_dictionary[business] = 1\n",
    "\n",
    "max_business = max(businesses_dictionary, key=businesses_dictionary.get) \n",
    "print(max_business)\n"
   ]
  },
  {
   "cell_type": "code",
   "execution_count": null,
   "metadata": {},
   "outputs": [],
   "source": [
    "path = \"/Users/David/Desktop/\"\n",
    "business_data = []\n",
    "for l in open(path+\"business.json\").readlines():\n",
    "    data = json.loads(l) #from json string to python dictionary\n",
    "    business_data.append(data)"
   ]
  },
  {
   "cell_type": "code",
   "execution_count": null,
   "metadata": {},
   "outputs": [],
   "source": [
    "for rest in business_data:\n",
    "    if max_business == rest['business_id']:\n",
    "        business_name = rest['name']\n",
    "        print(business_name)"
   ]
  },
  {
   "cell_type": "code",
   "execution_count": null,
   "metadata": {},
   "outputs": [],
   "source": [
    "# Part 5\n",
    "review_hours = {}\n",
    "for review in data2:\n",
    "    if review['business_id'] == max_business:\n",
    "        hour = review['date'][-8:-6]\n",
    "        if hour in review_hours:\n",
    "            review_hours[hour] += 1\n",
    "        else:\n",
    "            review_hours[hour] = 1\n",
    "            \n",
    "min_reviews = min(review_hours, key=review_hours.get) \n",
    "print(f\"Q5: {int(min_reviews)}\")"
   ]
  },
  {
   "cell_type": "code",
   "execution_count": null,
   "metadata": {},
   "outputs": [],
   "source": [
    "print(data2[9]['date'])\n",
    "print(data2[9]['date'][-8:-6])"
   ]
  },
  {
   "cell_type": "code",
   "execution_count": null,
   "metadata": {},
   "outputs": [],
   "source": []
  },
  {
   "cell_type": "code",
   "execution_count": null,
   "metadata": {},
   "outputs": [],
   "source": []
  },
  {
   "cell_type": "code",
   "execution_count": null,
   "metadata": {},
   "outputs": [],
   "source": [
    "import pandas as pd\n",
    "import numpy as np"
   ]
  },
  {
   "cell_type": "code",
   "execution_count": null,
   "metadata": {},
   "outputs": [],
   "source": [
    "path = \"/Users/David/Desktop/\"\n",
    "states={}\n",
    "for l in open(path+\"business.json\").readlines():\n",
    "    data = json.loads(l) #from json string to python dictionary\n",
    "    if data[\"state\"] in states.keys():\n",
    "        states[data[\"state\"]] = states[data[\"state\"]]+1\n",
    "    else:\n",
    "        states[data[\"state\"]] = 1\n",
    "print(states)\n",
    "print(sum(states.values()))"
   ]
  },
  {
   "cell_type": "code",
   "execution_count": null,
   "metadata": {},
   "outputs": [],
   "source": [
    "len(states)\n"
   ]
  },
  {
   "cell_type": "code",
   "execution_count": null,
   "metadata": {},
   "outputs": [],
   "source": [
    "azbus = []\n",
    "for l in open(path+\"business.json\").readlines():\n",
    "    data = json.loads(l)\n",
    "    if data[\"state\"] == \"AZ\":\n",
    "        azbus.append(data)\n",
    "print(len(azbus))"
   ]
  },
  {
   "cell_type": "code",
   "execution_count": null,
   "metadata": {},
   "outputs": [],
   "source": [
    "cities = {}\n",
    "for d in azbus:\n",
    "    if d[\"city\"] in cities.keys():\n",
    "        cities[d[\"city\"]] = 1 + cities[d[\"city\"]]\n",
    "    else:\n",
    "        cities[d[\"city\"]] = 1\n",
    "for k in cities.keys():\n",
    "    print(k, cities[k])"
   ]
  },
  {
   "cell_type": "code",
   "execution_count": null,
   "metadata": {},
   "outputs": [],
   "source": []
  },
  {
   "cell_type": "code",
   "execution_count": 1,
   "metadata": {},
   "outputs": [],
   "source": [
    "# PART 2\n",
    "\n",
    "import pandas as pd\n",
    "import json"
   ]
  },
  {
   "cell_type": "code",
   "execution_count": 42,
   "metadata": {},
   "outputs": [],
   "source": [
    "path = \"/Users/David/Desktop/\"\n",
    "d=[]\n",
    "for l in open(path+\"business.json\").readlines():\n",
    "    d.append(json.loads(l))\n",
    "df = pd.DataFrame.from_records(d)\n",
    "\n",
    "df = df[df['state'] == 'AZ']\n"
   ]
  },
  {
   "cell_type": "code",
   "execution_count": null,
   "metadata": {},
   "outputs": [],
   "source": []
  },
  {
   "cell_type": "code",
   "execution_count": 50,
   "metadata": {},
   "outputs": [],
   "source": [
    "df['city'] = df['city'].str.lower()\n",
    "df = df[df.city != '']\n",
    "df = df[df.city != 'arizona']\n",
    "df = df[df.city != 'az']\n",
    "df['city'] = df['city'].str.replace(',', '')\n",
    "df['city'] = df['city'].str.replace('.', '')\n",
    "df['city'] = df['city'].str.replace('az', '')\n",
    "df['city'] = df['city'].str.replace('  ', ' ')\n",
    "df['city'] = df['city'].str[0:-1] + df['city'].str[-1].replace(' ', '')\n",
    "\n",
    "\n",
    "df['city'] = df['city'].str.replace('phx', 'phoenix')\n",
    "df['city'] = df['city'].str.replace('north phoenix', 'phoenix')\n",
    "df['city'] = df['city'].str.replace('phoeniix', 'phoenix')\n",
    "df['city'] = df['city'].str.replace('metro phoenix', 'phoenix')\n",
    "df['city'] = df['city'].str.replace('phoenix metro area', 'phoenix')\n",
    "df['city'] = df['city'].str.replace('phoenix valley', 'phoenix')\n",
    "df['city'] = df['city'].str.replace('central', 'phoenix')\n",
    "df['city'] = df['city'].str.replace('central city', 'phoenix')\n",
    "df['city'] = df['city'].str.replace('phoneix', 'phoenix')\n",
    "df['city'] = df['city'].str.replace('phoniex', 'phoenix')\n",
    "df['city'] = df['city'].str.replace('phoenix city', 'phoenix')\n",
    "df['city'] = df['city'].str.replace('phoenx', 'phoenix')\n",
    "df['city'] = df['city'].str.replace('pheonix', 'phoenix')\n",
    "df['city'] = df['city'].str.replace('phoenix city', 'phoenix')\n",
    "df['city'] = df['city'].str.replace('phoenix city village', 'phoenix')\n",
    "df['city'] = df['city'].str.replace('phoenix village', 'phoenix')\n",
    "df['city'] = df['city'].str.replace('phoenix foothills village', 'phoenix')\n",
    "df['city'] = df['city'].str.replace('ahwahtukee', 'phoenix')\n",
    "df['city'] = df['city'].str.replace('ahwatukee', 'phoenix')\n",
    "df['city'] = df['city'].str.replace('ahwatukee foothills village', 'phoenix')\n",
    "\n",
    "df['city'] = df['city'].str.replace('old town scottsdale', 'scottsdale')\n",
    "df['city'] = df['city'].str.replace('scottsale', 'scottsdale')\n",
    "df['city'] = df['city'].str.replace('old scottsdale', 'scottsdale')\n",
    "df['city'] = df['city'].str.replace('north scottsdale', 'scottsdale')\n",
    "df['city'] = df['city'].str.replace('westworld scottsdale', 'scottsdale')\n",
    "df['city'] = df['city'].str.replace('scottdale', 'scottsdale')\n",
    "df['city'] = df['city'].str.replace('scotesdale', 'scottsdale')\n",
    "df['city'] = df['city'].str.replace('scotsdale', 'scottsdale')\n",
    "df['city'] = df['city'].str.replace('schottsdale', 'scottsdale')\n",
    "\n",
    "df['city'] = df['city'].str.replace('chandler-gilbert', 'chandler')\n",
    "df['city'] = df['city'].str.replace('chander', 'chandler')\n",
    "df['city'] = df['city'].str.replace('\\u200bchandler', 'chandler')\n",
    "\n",
    "df['city'] = df['city'].str.replace('mesa arizona', 'mesa')\n",
    "df['city'] = df['city'].str.replace('east mesa', 'mesa')\n",
    "\n",
    "df['city'] = df['city'].str.replace('litchfield', 'litchfield park')\n",
    "df['city'] = df['city'].str.replace('park park', 'park')\n",
    "\n",
    "df['city'] = df['city'].str.replace('suprise', 'surprise')\n",
    "df['city'] = df['city'].str.replace('surprise crossing', 'surprise')\n",
    "\n",
    "df['city'] = df['city'].str.replace('cave creek road', 'cave creek')\n",
    "\n",
    "df['city'] = df['city'].str.replace('suncity', 'sun city')\n",
    "df['city'] = df['city'].str.replace('sun city west', 'sun city')\n",
    "\n",
    "df['city'] = df['city'].str.replace('fountain hls', 'fountain hills')\n",
    "\n",
    "df['city'] = df['city'].str.replace('laveen village', 'laveen')\n",
    "df['city'] = df['city'].str.replace('san tan', 'san tan valley')\n",
    "df['city'] = df['city'].str.replace('valley valley', 'valley')\n",
    "df['city'] = df['city'].str.replace('valley valley', 'valley')\n",
    "\n",
    "df['city'] = df['city'].str.replace('glbert', 'gilbert')\n",
    "df['city'] = df['city'].str.replace('gelndale', 'glendale')\n",
    "\n",
    "df['city'] = df['city'].str.replace('', '')\n",
    "df['city'] = df['city'].str.replace('', '')\n",
    "df['city'] = df['city'].str.replace('', '')\n",
    "df['city'] = df['city'].str.replace('', '')"
   ]
  },
  {
   "cell_type": "code",
   "execution_count": null,
   "metadata": {},
   "outputs": [],
   "source": []
  },
  {
   "cell_type": "code",
   "execution_count": 53,
   "metadata": {},
   "outputs": [
    {
     "name": "stdout",
     "output_type": "stream",
     "text": [
      "['phoenix', 'goodyear', 'glendale', 'scottsdale', 'mesa', 'gilbert', 'litchfield park', 'tempe', 'peoria', 'chandler', 'surprise', 'buckeye', 'queen creek', 'avondale', 'higley', 'cave creek', 'sun city', 'carefree', 'el mirage', 'paradise valley', 'fountain hills', 'tolleson', 'sun lakes', 'fort mcdowell', 'apache junction', 'laveen', 'youngtown', 'anthem', 'somerton', 'guadalupe', 'valleywide', 'rio verde', 'waddell', 'pasadena', 'the promenade', 'san tan valley', 'new river', 'sedona', 'snowflake', 'apache trail', 'rainbow valley', 'red rock', 'desert ridge', 'estrella village', 'maricopa', 'sunnyslope', 'grand canyon', 'las vegas', 'stetson valley', 'arrowhead', 'tucson', 'red mountain', 'greenway']\n",
      "53\n"
     ]
    }
   ],
   "source": [
    "lst = list(df['city'].unique())\n",
    "\n",
    "print(lst)\n",
    "print(len(lst))\n"
   ]
  },
  {
   "cell_type": "code",
   "execution_count": null,
   "metadata": {},
   "outputs": [],
   "source": []
  },
  {
   "cell_type": "code",
   "execution_count": null,
   "metadata": {},
   "outputs": [],
   "source": []
  }
 ],
 "metadata": {
  "kernelspec": {
   "display_name": "Python 3",
   "language": "python",
   "name": "python3"
  },
  "language_info": {
   "codemirror_mode": {
    "name": "ipython",
    "version": 3
   },
   "file_extension": ".py",
   "mimetype": "text/x-python",
   "name": "python",
   "nbconvert_exporter": "python",
   "pygments_lexer": "ipython3",
   "version": "3.7.4"
  }
 },
 "nbformat": 4,
 "nbformat_minor": 2
}
