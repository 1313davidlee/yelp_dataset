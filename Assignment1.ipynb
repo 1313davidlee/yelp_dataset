{
 "cells": [
  {
   "cell_type": "code",
   "execution_count": 5,
   "metadata": {},
   "outputs": [],
   "source": [
    "import json\n",
    "import pandas as pd\n",
    "\n",
    "path = \"/Users/David/Desktop/\"\n",
    "data2 = []\n",
    "for l in open(path+\"tip.json\").readlines():\n",
    "    data = json.loads(l) #from json string to python dictionary\n",
    "    data2.append(data)"
   ]
  },
  {
   "cell_type": "code",
   "execution_count": 6,
   "metadata": {},
   "outputs": [
    {
     "name": "stdout",
     "output_type": "stream",
     "text": [
      "1223094\n"
     ]
    }
   ],
   "source": [
    "# Part 1\n",
    "print(len(data2))"
   ]
  },
  {
   "cell_type": "code",
   "execution_count": 9,
   "metadata": {},
   "outputs": [
    {
     "name": "stdout",
     "output_type": "stream",
     "text": [
      "512\n"
     ]
    }
   ],
   "source": [
    "# Part 2\n",
    "dictionary = {}\n",
    "for tip in data2:\n",
    "    text = tip['text']\n",
    "    length = len(text)\n",
    "    if length in dictionary:\n",
    "        dictionary[length] += 1\n",
    "    else:\n",
    "        dictionary[length] = 1\n",
    "\n",
    "max_len = max(dictionary.keys())\n",
    "print(dictionary[max_len])"
   ]
  },
  {
   "cell_type": "code",
   "execution_count": 10,
   "metadata": {},
   "outputs": [
    {
     "name": "stdout",
     "output_type": "stream",
     "text": [
      "{'user_id': 'UPw5DWs_b-e2JRBS-t37Ag', 'business_id': 'VaKXUpmWTTWDKbpJ3aQdMw', 'text': 'Great for watching games, ufc, and whatever else tickles yer fancy', 'date': '2014-03-27 03:51:24', 'compliment_count': 0}\n"
     ]
    }
   ],
   "source": [
    "print(data2[0])\n"
   ]
  },
  {
   "cell_type": "code",
   "execution_count": 23,
   "metadata": {},
   "outputs": [
    {
     "name": "stdout",
     "output_type": "stream",
     "text": [
      "3.8140043968380186 17.14247274785412\n",
      "num_excellent_users 973\n"
     ]
    }
   ],
   "source": [
    "import numpy as np\n",
    "\n",
    "# Part 3\n",
    "\n",
    "users_dictionary = {}\n",
    "for tip in data2:\n",
    "    user = tip['user_id']\n",
    "    if user in users_dictionary:\n",
    "        users_dictionary[user] += 1\n",
    "    else:\n",
    "        users_dictionary[user] = 1\n",
    "\n",
    "counts = list(users_dictionary.values())\n",
    "avg = np.mean(counts)\n",
    "std = np.std(counts)\n",
    "\n",
    "print(avg, std)\n",
    "\n",
    "excellent_cutoff = avg + 6*std\n",
    "\n",
    "num_excellent_users = 0\n",
    "for key in users_dictionary:\n",
    "    if users_dictionary[key] > excellent_cutoff:\n",
    "        num_excellent_users += 1\n",
    "\n",
    "print(\"num_excellent_users\", num_excellent_users)"
   ]
  },
  {
   "cell_type": "code",
   "execution_count": 38,
   "metadata": {},
   "outputs": [
    {
     "name": "stdout",
     "output_type": "stream",
     "text": [
      "FaHADZARwnY4yvlvpnsfGA\n"
     ]
    }
   ],
   "source": [
    "# Part 4\n",
    "businesses_dictionary = {}\n",
    "for tip in data2:\n",
    "    business = tip['business_id']\n",
    "    if business in businesses_dictionary:\n",
    "        businesses_dictionary[business] += 1\n",
    "    else:\n",
    "        businesses_dictionary[business] = 1\n",
    "\n",
    "max_business = max(businesses_dictionary, key=businesses_dictionary.get) \n",
    "print(max_business)\n"
   ]
  },
  {
   "cell_type": "code",
   "execution_count": 39,
   "metadata": {},
   "outputs": [],
   "source": [
    "path = \"/Users/David/Desktop/\"\n",
    "business_data = []\n",
    "for l in open(path+\"business.json\").readlines():\n",
    "    data = json.loads(l) #from json string to python dictionary\n",
    "    business_data.append(data)"
   ]
  },
  {
   "cell_type": "code",
   "execution_count": 42,
   "metadata": {},
   "outputs": [
    {
     "name": "stdout",
     "output_type": "stream",
     "text": [
      "McCarran International Airport\n"
     ]
    }
   ],
   "source": [
    "for rest in business_data:\n",
    "    if max_business == rest['business_id']:\n",
    "        business_name = rest['name']\n",
    "        print(business_name)"
   ]
  },
  {
   "cell_type": "code",
   "execution_count": 63,
   "metadata": {},
   "outputs": [
    {
     "name": "stdout",
     "output_type": "stream",
     "text": [
      "Q5: 9\n"
     ]
    }
   ],
   "source": [
    "# Part 5\n",
    "review_hours = {}\n",
    "for review in data2:\n",
    "    if review['business_id'] == max_business:\n",
    "        hour = review['date'][-8:-6]\n",
    "        if hour in review_hours:\n",
    "            review_hours[hour] += 1\n",
    "        else:\n",
    "            review_hours[hour] = 1\n",
    "            \n",
    "min_reviews = min(review_hours, key=review_hours.get) \n",
    "print(f\"Q5: {int(min_reviews)}\")"
   ]
  },
  {
   "cell_type": "code",
   "execution_count": 52,
   "metadata": {},
   "outputs": [
    {
     "name": "stdout",
     "output_type": "stream",
     "text": [
      "2013-02-08 20:55:15\n",
      "20\n"
     ]
    }
   ],
   "source": [
    "print(data2[9]['date'])\n",
    "print(data2[9]['date'][-8:-6])"
   ]
  },
  {
   "cell_type": "code",
   "execution_count": null,
   "metadata": {},
   "outputs": [],
   "source": []
  },
  {
   "cell_type": "code",
   "execution_count": null,
   "metadata": {},
   "outputs": [],
   "source": []
  },
  {
   "cell_type": "code",
   "execution_count": 64,
   "metadata": {},
   "outputs": [],
   "source": [
    "import pandas as pd\n",
    "import numpy as np"
   ]
  },
  {
   "cell_type": "code",
   "execution_count": 65,
   "metadata": {},
   "outputs": [
    {
     "name": "stdout",
     "output_type": "stream",
     "text": [
      "{'AZ': 56686, 'ON': 33412, 'NC': 14720, 'AB': 8012, 'NV': 36312, 'OH': 14697, 'PA': 11216, 'QC': 9219, 'WI': 5154, 'IL': 1932, 'NY': 22, 'SC': 1162, 'TX': 6, 'UT': 1, 'NM': 1, 'FL': 4, 'CA': 19, 'VA': 2, 'BAS': 1, 'NE': 2, 'AK': 2, 'XGM': 4, 'WA': 3, 'XWY': 2, 'CON': 1, 'BC': 1, 'GA': 2, 'VT': 2, 'CT': 3, 'AL': 3, 'DUR': 1, 'TN': 1, 'NJ': 1, 'AR': 1, 'XGL': 1, 'DOW': 1}\n",
      "192609\n"
     ]
    }
   ],
   "source": [
    "path = \"/Users/David/Desktop/\"\n",
    "states={}\n",
    "for l in open(path+\"business.json\").readlines():\n",
    "    data = json.loads(l) #from json string to python dictionary\n",
    "    if data[\"state\"] in states.keys():\n",
    "        states[data[\"state\"]] = states[data[\"state\"]]+1\n",
    "    else:\n",
    "        states[data[\"state\"]] = 1\n",
    "print(states)\n",
    "print(sum(states.values()))"
   ]
  },
  {
   "cell_type": "code",
   "execution_count": 66,
   "metadata": {},
   "outputs": [
    {
     "data": {
      "text/plain": [
       "36"
      ]
     },
     "execution_count": 66,
     "metadata": {},
     "output_type": "execute_result"
    }
   ],
   "source": [
    "len(states)\n"
   ]
  },
  {
   "cell_type": "code",
   "execution_count": 67,
   "metadata": {},
   "outputs": [
    {
     "name": "stdout",
     "output_type": "stream",
     "text": [
      "56686\n"
     ]
    }
   ],
   "source": [
    "azbus = []\n",
    "for l in open(path+\"business.json\").readlines():\n",
    "\tdata = json.loads(l)\n",
    "\tif data[\"state\"] == \"AZ\":\n",
    "\t\tazbus.append(data)\n",
    "print(len(azbus))"
   ]
  },
  {
   "cell_type": "code",
   "execution_count": 68,
   "metadata": {},
   "outputs": [
    {
     "name": "stdout",
     "output_type": "stream",
     "text": [
      "Phoenix 18764\n",
      "Goodyear 855\n",
      "Glendale 3542\n",
      "Scottsdale 8837\n",
      "Mesa 6080\n",
      "Gilbert 3460\n",
      "Litchfield Park 222\n",
      "Tempe 4550\n",
      "Peoria 1919\n",
      "Chandler 4307\n",
      "Surprise 1147\n",
      "Buckeye 69\n",
      "Old Town Scottsdale 2\n",
      "Queen Creek 99\n",
      "Avondale 680\n",
      "Higley 25\n",
      "Cave Creek 402\n",
      "Sun City 258\n",
      "Sun City West 104\n",
      "Carefree 100\n",
      "El Mirage 122\n",
      "Paradise Valley 136\n",
      "Litchfield 4\n",
      "Fountain Hills 345\n",
      "Tolleson 147\n",
      "Sun Lakes 31\n",
      "Fort Mcdowell 3\n",
      "Apache Junction 26\n",
      "Laveen 127\n",
      "Laveen Village 15\n",
      "Fort McDowell 11\n",
      "Arizona 1\n",
      "​Chandler 1\n",
      "Phoenix, 1\n",
      "Youngtown 65\n",
      "Anthem 26\n",
      "Somerton 1\n",
      "phoenix 9\n",
      "Guadalupe 25\n",
      "SURPRISE 1\n",
      "Valleywide 1\n",
      "Rio Verde 5\n",
      "Litchfield park 1\n",
      "Waddell 19\n",
      "Pasadena 1\n",
      "Ahwatukee 19\n",
      "PHOENIX 6\n",
      "glendale 2\n",
      "Phoenix  1\n",
      "Glendale Az 1\n",
      "SCOTTSDALE 3\n",
      "TEMPE 5\n",
      "LAVEEN 1\n",
      "scottsdale 5\n",
      "AZ 1\n",
      "Gelndale 1\n",
      " 1\n",
      "The Promenade 1\n",
      "San Tan Valley 2\n",
      "Tempe  1\n",
      "TOLLESON 1\n",
      "New River 2\n",
      "CAREFREE 1\n",
      "Sedona 1\n",
      "Schottsdale 1\n",
      "Mesa AZ 1\n",
      "cave creek 1\n",
      "mesa 3\n",
      "Snowflake 1\n",
      "MESA 6\n",
      "Apache Trail 1\n",
      "North Phoenix 1\n",
      "Phoenix Metro Area 2\n",
      "GIlbert 1\n",
      "Phoenix AZ 1\n",
      "Scottsale 1\n",
      "Ahwatukee Foothills Village 1\n",
      "PEORIA 1\n",
      "Phoenix, AZ 2\n",
      "Scottdale 3\n",
      "East Mesa 1\n",
      "Scottsdale, AZ 1\n",
      "Rainbow Valley 1\n",
      "Cave Creek Road 1\n",
      "QUEEN CREEK 1\n",
      "Suncity 1\n",
      "Red Rock 1\n",
      "Desert Ridge 1\n",
      "Queen creek 1\n",
      "Phx 1\n",
      "surprise 1\n",
      "Estrella Village 1\n",
      "Pheonix 3\n",
      "Old Scottsdale 1\n",
      "Maricopa 1\n",
      "Phoenx 1\n",
      "GILBERT 2\n",
      "Sunnyslope 1\n",
      "peoria 1\n",
      "Phoeniix 1\n",
      "San Tan 1\n",
      "Cave creek 1\n",
      "tempe 1\n",
      "Scotsdale 1\n",
      "Suprise 1\n",
      "Sun CIty 1\n",
      "Grand Canyon 1\n",
      "Central City 1\n",
      "Las Vegas 1\n",
      "Chandler-Gilbert 1\n",
      "Central City Village 2\n",
      "Mesa Arizona 1\n",
      "North Scottsdale 1\n",
      "Stetson Valley 1\n",
      "Fountain Hls 1\n",
      "Metro Phoenix 1\n",
      "Pheonix AZ 1\n",
      "Chander 1\n",
      "GLENDALE 1\n",
      "Arrowhead 1\n",
      "Tucson 1\n",
      "Glbert 1\n",
      "GOODYEAR 1\n",
      "Phoneix 1\n",
      "Phoniex 1\n",
      "Surprise Crossing 1\n",
      "Ahwahtukee 1\n",
      "Phoenix Valley 1\n",
      "Central 1\n",
      "Red Mountain 1\n",
      "Westworld Scottsdale 1\n",
      "Greenway 1\n",
      "Scotesdale 1\n",
      "CAVE CREEK 1\n"
     ]
    }
   ],
   "source": [
    "cities = {}\n",
    "for d in azbus:\n",
    "    if d[\"city\"] in cities.keys():\n",
    "        cities[d[\"city\"]] = 1 + cities[d[\"city\"]]\n",
    "    else:\n",
    "        cities[d[\"city\"]] = 1\n",
    "    for k in cities.keys():\n",
    "    print(k, cities[k])"
   ]
  },
  {
   "cell_type": "code",
   "execution_count": null,
   "metadata": {},
   "outputs": [],
   "source": []
  }
 ],
 "metadata": {
  "kernelspec": {
   "display_name": "Python 3",
   "language": "python",
   "name": "python3"
  },
  "language_info": {
   "codemirror_mode": {
    "name": "ipython",
    "version": 3
   },
   "file_extension": ".py",
   "mimetype": "text/x-python",
   "name": "python",
   "nbconvert_exporter": "python",
   "pygments_lexer": "ipython3",
   "version": "3.7.2"
  }
 },
 "nbformat": 4,
 "nbformat_minor": 2
}
