{
 "cells": [
  {
   "cell_type": "code",
   "execution_count": 1,
   "metadata": {},
   "outputs": [],
   "source": [
    "from sklearn.linear_model import LinearRegression\n",
    "from sklearn.model_selection import cross_val_score\n",
    "from sklearn import ensemble\n",
    "from sklearn.model_selection import GridSearchCV\n",
    "from sklearn.linear_model import LogisticRegression\n",
    "from sklearn.metrics import roc_auc_score\n",
    "import numpy as np\n",
    "from sklearn import datasets\n",
    "import pandas as pd\n",
    "\n",
    "\n",
    "from math import sin, cos, sqrt, atan2, radians\n",
    "\n",
    "#sentiment packages\n",
    "from textblob import TextBlob"
   ]
  },
  {
   "cell_type": "code",
   "execution_count": 2,
   "metadata": {},
   "outputs": [],
   "source": [
    "# load businesses with national neighbor data\n",
    "business_df = pd.read_json('completed_distance_df.json', lines=False)\n"
   ]
  },
  {
   "cell_type": "code",
   "execution_count": 156,
   "metadata": {},
   "outputs": [
    {
     "data": {
      "text/plain": [
       "'Restaurants, Asian Fusion, Sushi Bars'"
      ]
     },
     "execution_count": 156,
     "metadata": {},
     "output_type": "execute_result"
    }
   ],
   "source": [
    "business_df.categories[22]"
   ]
  },
  {
   "cell_type": "code",
   "execution_count": 267,
   "metadata": {},
   "outputs": [],
   "source": [
    "business_df['is_restaurant'] = business_df[['categories']].applymap(lambda x: helper(x, 'restaurant'))\n",
    "business_df['is_shopping'] = business_df[['categories']].applymap(lambda x: helper(x, 'shopping'))\n",
    "business_df['is_fitness'] = business_df[['categories']].applymap(lambda x: helper(x, 'fitness'))\n",
    "business_df['is_gas'] = business_df[['categories']].applymap(lambda x: helper(x, 'gas'))"
   ]
  },
  {
   "cell_type": "code",
   "execution_count": 242,
   "metadata": {},
   "outputs": [
    {
     "data": {
      "text/plain": [
       "array(['Movers, Local Services, Self Storage, Home Services',\n",
       "       'Car Dealers, Auto Repair, Auto Parts & Supplies, Automotive',\n",
       "       'Sushi Bars, Buffets, Restaurants, Chinese', ...,\n",
       "       'American (Traditional), Restaurants, Sports Bars, Pubs, Bars, Diners, American (New), Nightlife',\n",
       "       'Grocery, Automotive, Food, Gas Stations, Farmers Market, Shopping, Convenience Stores',\n",
       "       'Trainers, Fitness & Instruction, Pilates, Gyms, Active Life'],\n",
       "      dtype=object)"
      ]
     },
     "execution_count": 242,
     "metadata": {},
     "output_type": "execute_result"
    }
   ],
   "source": [
    "business_df.categories.unique()"
   ]
  },
  {
   "cell_type": "code",
   "execution_count": 241,
   "metadata": {},
   "outputs": [
    {
     "data": {
      "text/html": [
       "<div>\n",
       "<style scoped>\n",
       "    .dataframe tbody tr th:only-of-type {\n",
       "        vertical-align: middle;\n",
       "    }\n",
       "\n",
       "    .dataframe tbody tr th {\n",
       "        vertical-align: top;\n",
       "    }\n",
       "\n",
       "    .dataframe thead th {\n",
       "        text-align: right;\n",
       "    }\n",
       "</style>\n",
       "<table border=\"1\" class=\"dataframe\">\n",
       "  <thead>\n",
       "    <tr style=\"text-align: right;\">\n",
       "      <th></th>\n",
       "      <th>categories</th>\n",
       "    </tr>\n",
       "  </thead>\n",
       "  <tbody>\n",
       "    <tr>\n",
       "      <th>0</th>\n",
       "      <td>None</td>\n",
       "    </tr>\n",
       "    <tr>\n",
       "      <th>1</th>\n",
       "      <td>None</td>\n",
       "    </tr>\n",
       "    <tr>\n",
       "      <th>2</th>\n",
       "      <td>None</td>\n",
       "    </tr>\n",
       "    <tr>\n",
       "      <th>3</th>\n",
       "      <td>None</td>\n",
       "    </tr>\n",
       "    <tr>\n",
       "      <th>4</th>\n",
       "      <td>None</td>\n",
       "    </tr>\n",
       "    <tr>\n",
       "      <th>...</th>\n",
       "      <td>...</td>\n",
       "    </tr>\n",
       "    <tr>\n",
       "      <th>69971</th>\n",
       "      <td>None</td>\n",
       "    </tr>\n",
       "    <tr>\n",
       "      <th>69972</th>\n",
       "      <td>None</td>\n",
       "    </tr>\n",
       "    <tr>\n",
       "      <th>69973</th>\n",
       "      <td>None</td>\n",
       "    </tr>\n",
       "    <tr>\n",
       "      <th>69974</th>\n",
       "      <td>None</td>\n",
       "    </tr>\n",
       "    <tr>\n",
       "      <th>69975</th>\n",
       "      <td>None</td>\n",
       "    </tr>\n",
       "  </tbody>\n",
       "</table>\n",
       "<p>69976 rows × 1 columns</p>\n",
       "</div>"
      ],
      "text/plain": [
       "      categories\n",
       "0           None\n",
       "1           None\n",
       "2           None\n",
       "3           None\n",
       "4           None\n",
       "...          ...\n",
       "69971       None\n",
       "69972       None\n",
       "69973       None\n",
       "69974       None\n",
       "69975       None\n",
       "\n",
       "[69976 rows x 1 columns]"
      ]
     },
     "execution_count": 241,
     "metadata": {},
     "output_type": "execute_result"
    }
   ],
   "source": []
  },
  {
   "cell_type": "code",
   "execution_count": null,
   "metadata": {},
   "outputs": [],
   "source": []
  },
  {
   "cell_type": "code",
   "execution_count": null,
   "metadata": {},
   "outputs": [],
   "source": []
  },
  {
   "cell_type": "code",
   "execution_count": 263,
   "metadata": {},
   "outputs": [],
   "source": [
    "restaurant_words = ['restaurant', 'bar', 'diner', 'pub', 'food']\n",
    "shopping_words = ['shopping']\n",
    "fitness_words = ['Trainer', 'Fitness', 'Pilates', 'Gym']\n",
    "gas_words = ['gas']\n",
    "\n",
    "def helper(x, business_type):\n",
    "    if business_type == 'restaurant':\n",
    "        dictionary = restaurant_words\n",
    "    elif business_type == 'shopping':\n",
    "        dictionary = shopping_words\n",
    "    elif business_type == 'fitness':\n",
    "        dictionary = fitness_words\n",
    "    elif business_type == 'gas':\n",
    "        dictionary = gas_words\n",
    "        \n",
    "    if type(x) != str:\n",
    "        return 0\n",
    "    x = x.split(\",\")\n",
    "    for word in x:\n",
    "        for word2 in dictionary:\n",
    "            if word2.lower() in word.lower():\n",
    "                return 1\n",
    "    return 0"
   ]
  },
  {
   "cell_type": "code",
   "execution_count": null,
   "metadata": {},
   "outputs": [],
   "source": []
  },
  {
   "cell_type": "code",
   "execution_count": 268,
   "metadata": {},
   "outputs": [],
   "source": [
    "#even split of set\n",
    "from sklearn.model_selection import train_test_split\n",
    "\n",
    "closed_businesses = business_df[business_df['is_open'] == 0]\n",
    "open_businesses = business_df[business_df['is_open'] == 1]\n",
    "\n",
    "random_open, _ = train_test_split(open_businesses, train_size = closed_businesses.shape[0])\n",
    "\n",
    "even_split_data = pd.concat([closed_businesses, random_open], ignore_index=True)\n"
   ]
  },
  {
   "cell_type": "code",
   "execution_count": 278,
   "metadata": {},
   "outputs": [],
   "source": [
    "even_split_features = even_split_data[['stars', 'review_count', 'tip_count', 'chain', '.1_count', '.3_count', 'mean_tip_sentiment', 'is_restaurant', 'is_shopping', 'is_fitness', 'is_gas']]\n",
    "even_split_targets = even_split_data['is_open']"
   ]
  },
  {
   "cell_type": "code",
   "execution_count": 104,
   "metadata": {},
   "outputs": [],
   "source": [
    "from sklearn.preprocessing import MinMaxScaler"
   ]
  },
  {
   "cell_type": "code",
   "execution_count": 279,
   "metadata": {},
   "outputs": [],
   "source": [
    "scaler = MinMaxScaler()\n",
    "scaler.fit(even_split_features)\n",
    "normalized_features = scaler.transform(even_split_features)\n",
    "\n",
    "even_split_targets = even_split_targets.to_numpy()"
   ]
  },
  {
   "cell_type": "code",
   "execution_count": 280,
   "metadata": {},
   "outputs": [],
   "source": [
    "#do not touch\n",
    "training_features, test_features, training_targets, test_targets = train_test_split(normalized_features, even_split_targets, test_size = 1)\n"
   ]
  },
  {
   "cell_type": "code",
   "execution_count": null,
   "metadata": {},
   "outputs": [],
   "source": [
    "#experiment zone\n",
    "experiment_even_split_features = even_split_data[['stars', 'review_count', 'tip_count', 'chain', '.1_count', '.3_count', 'mean_tip_sentiment']]\n",
    "experiment_even_split_targets = even_split_data['is_open']\n",
    "\n",
    "experiment_scaler = MinMaxScaler()\n",
    "experiment_scaler.fit(even_split_features)\n",
    "experiment_normalized_features = scaler.transform(even_split_features)\n",
    "\n",
    "experiment_even_split_targets = even_split_targets.to_numpy()\n",
    "\n",
    "experiment_training_features, experiment_test_features, experiment_training_targets, experiment_test_targets = train_test_split(experiment_normalized_features, experiment_even_split_targets, test_size = 1)\n"
   ]
  },
  {
   "cell_type": "code",
   "execution_count": null,
   "metadata": {},
   "outputs": [],
   "source": []
  },
  {
   "cell_type": "code",
   "execution_count": 272,
   "metadata": {},
   "outputs": [
    {
     "name": "stdout",
     "output_type": "stream",
     "text": [
      "[0.65704918 0.64415301 0.65770492 0.65464481 0.63213115]\n"
     ]
    }
   ],
   "source": [
    "clf = LogisticRegression()\n",
    "scores = cross_val_score(clf, training_features, training_targets, cv=5)\n",
    "print(scores)"
   ]
  },
  {
   "cell_type": "code",
   "execution_count": 281,
   "metadata": {},
   "outputs": [
    {
     "name": "stdout",
     "output_type": "stream",
     "text": [
      "Illinois Businesses Boosting Classifier Scores [0.66098361 0.67715847 0.67387978 0.67650273 0.67562842]\n",
      "Illinois Businesses Boosting Classifier Mean Score 0.6728306010928963\n"
     ]
    }
   ],
   "source": [
    "clf = ensemble.GradientBoostingClassifier()\n",
    "scores = cross_val_score(clf, training_features, training_targets, cv=5)\n",
    "print('Illinois Businesses Boosting Classifier Scores', scores)\n",
    "print('Illinois Businesses Boosting Classifier Mean Score', np.mean(scores))"
   ]
  },
  {
   "cell_type": "code",
   "execution_count": 137,
   "metadata": {},
   "outputs": [
    {
     "name": "stdout",
     "output_type": "stream",
     "text": [
      "National Neighbor Data Logistic Regression ROC AUC scores [0.6490527  0.63211656 0.63835345 0.64230937 0.63410408]\n",
      "National Neighbor Data Logistic Regression ROC AUC Mean score 0.6391872311116955\n",
      "\n",
      "National Neighbor Data Boosting Classifier ROC AUC scores [0.70735397 0.69580649 0.68652956 0.69930529 0.68421973]\n",
      "National Neighbor Data Boosting Classifier ROC AUC Mean score 0.694643007298779\n"
     ]
    }
   ],
   "source": [
    "clf = LogisticRegression()\n",
    "scores = cross_val_score(clf, training_features, training_targets, cv=5, scoring='roc_auc')\n",
    "print('National Neighbor Data Logistic Regression ROC AUC scores', scores)\n",
    "print('National Neighbor Data Logistic Regression ROC AUC Mean score', np.mean(scores))\n",
    "print()\n",
    "\n",
    "clf = ensemble.GradientBoostingClassifier()\n",
    "scores = cross_val_score(clf, training_features, training_targets, cv=5, scoring='roc_auc')\n",
    "print('National Neighbor Data Boosting Classifier ROC AUC scores', scores)\n",
    "print('National Neighbor Data Boosting Classifier ROC AUC Mean score', np.mean(scores))"
   ]
  },
  {
   "cell_type": "code",
   "execution_count": 126,
   "metadata": {},
   "outputs": [
    {
     "name": "stdout",
     "output_type": "stream",
     "text": [
      "Illinois Businesses Boosting Classifier Scores [0.63825137 0.64546448 0.63300546 0.63693989 0.62622951]\n",
      "Illinois Businesses Boosting Classifier Mean Score 0.6359781420765028\n"
     ]
    }
   ],
   "source": [
    "clf = ensemble.GradientBoostingClassifier()\n",
    "scores = cross_val_score(clf, training_features, training_targets, cv=5)\n",
    "print('Illinois Businesses Boosting Classifier Scores', scores)\n",
    "print('Illinois Businesses Boosting Classifier Mean Score', np.mean(scores))"
   ]
  }
 ],
 "metadata": {
  "kernelspec": {
   "display_name": "Python 3",
   "language": "python",
   "name": "python3"
  },
  "language_info": {
   "codemirror_mode": {
    "name": "ipython",
    "version": 3
   },
   "file_extension": ".py",
   "mimetype": "text/x-python",
   "name": "python",
   "nbconvert_exporter": "python",
   "pygments_lexer": "ipython3",
   "version": "3.6.10"
  }
 },
 "nbformat": 4,
 "nbformat_minor": 4
}
