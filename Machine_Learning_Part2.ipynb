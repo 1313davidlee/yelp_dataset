{
 "cells": [
  {
   "cell_type": "code",
   "execution_count": 1,
   "metadata": {},
   "outputs": [],
   "source": [
    "from sklearn.linear_model import LinearRegression\n",
    "from sklearn.model_selection import cross_val_score\n",
    "from sklearn import ensemble\n",
    "from sklearn.model_selection import GridSearchCV\n",
    "from sklearn.linear_model import LogisticRegression\n",
    "from sklearn.metrics import roc_auc_score\n",
    "import numpy as np\n",
    "from sklearn import datasets\n",
    "import pandas as pd\n",
    "\n",
    "\n",
    "from math import sin, cos, sqrt, atan2, radians\n",
    "\n",
    "#sentiment packages\n",
    "from textblob import TextBlob"
   ]
  },
  {
   "cell_type": "code",
   "execution_count": 2,
   "metadata": {},
   "outputs": [],
   "source": [
    "# load businesses with national neighbor data\n",
    "business_df = pd.read_json('completed_distance_df.json', lines=False)\n"
   ]
  },
  {
   "cell_type": "code",
   "execution_count": 156,
   "metadata": {},
   "outputs": [
    {
     "data": {
      "text/plain": [
       "'Restaurants, Asian Fusion, Sushi Bars'"
      ]
     },
     "execution_count": 156,
     "metadata": {},
     "output_type": "execute_result"
    }
   ],
   "source": [
    "business_df.categories[22]"
   ]
  },
  {
   "cell_type": "code",
   "execution_count": 168,
   "metadata": {},
   "outputs": [],
   "source": [
    "business_df['is_restaurant'] = business_df[['categories']].applymap(lambda x: helper(x))"
   ]
  },
  {
   "cell_type": "code",
   "execution_count": null,
   "metadata": {},
   "outputs": [],
   "source": [
    "busine"
   ]
  },
  {
   "cell_type": "code",
   "execution_count": 167,
   "metadata": {},
   "outputs": [],
   "source": [
    "restaurant_words = ['restaurant', 'bar', 'diner', 'pub', 'food']\n",
    "def helper(x):\n",
    "    if not isinstance(x, list):\n",
    "        return 0\n",
    "    for word in x:\n",
    "        for word2 in restaurant_words:\n",
    "            if word2 in word:\n",
    "                return 1\n",
    "    return 0"
   ]
  },
  {
   "cell_type": "code",
   "execution_count": 31,
   "metadata": {},
   "outputs": [],
   "source": [
    "#even split of set\n",
    "from sklearn.model_selection import train_test_split\n",
    "\n",
    "closed_businesses = business_df[business_df['is_open'] == 0]\n",
    "open_businesses = business_df[business_df['is_open'] == 1]\n",
    "\n",
    "random_open, _ = train_test_split(open_businesses, train_size = closed_businesses.shape[0])\n",
    "\n",
    "even_split_data = pd.concat([closed_businesses, random_open], ignore_index=True)\n"
   ]
  },
  {
   "cell_type": "code",
   "execution_count": 127,
   "metadata": {},
   "outputs": [],
   "source": [
    "even_split_features = even_split_data[['stars', 'review_count', 'tip_count', 'chain', '.1_count', '.3_count', 'mean_tip_sentiment']]\n",
    "even_split_targets = even_split_data['is_open']"
   ]
  },
  {
   "cell_type": "code",
   "execution_count": 104,
   "metadata": {},
   "outputs": [],
   "source": [
    "from sklearn.preprocessing import MinMaxScaler"
   ]
  },
  {
   "cell_type": "code",
   "execution_count": 128,
   "metadata": {},
   "outputs": [],
   "source": [
    "scaler = MinMaxScaler()\n",
    "scaler.fit(even_split_features)\n",
    "normalized_features = scaler.transform(even_split_features)\n",
    "\n",
    "even_split_targets = even_split_targets.to_numpy()"
   ]
  },
  {
   "cell_type": "code",
   "execution_count": 130,
   "metadata": {},
   "outputs": [],
   "source": [
    "#do not touch\n",
    "training_features, test_features, training_targets, test_targets = train_test_split(normalized_features, even_split_targets, test_size = 1)\n"
   ]
  },
  {
   "cell_type": "code",
   "execution_count": null,
   "metadata": {},
   "outputs": [],
   "source": [
    "#experiment zone\n",
    "experiment_even_split_features = even_split_data[['stars', 'review_count', 'tip_count', 'chain', '.1_count', '.3_count', 'mean_tip_sentiment']]\n",
    "experiment_even_split_targets = even_split_data['is_open']\n",
    "\n",
    "experiment_scaler = MinMaxScaler()\n",
    "experiment_scaler.fit(even_split_features)\n",
    "experiment_normalized_features = scaler.transform(even_split_features)\n",
    "\n",
    "experiment_even_split_targets = even_split_targets.to_numpy()\n",
    "\n",
    "experiment_training_features, experiment_test_features, experiment_training_targets, experiment_test_targets = train_test_split(experiment_normalized_features, experiment_even_split_targets, test_size = 1)\n"
   ]
  },
  {
   "cell_type": "code",
   "execution_count": null,
   "metadata": {},
   "outputs": [],
   "source": []
  },
  {
   "cell_type": "code",
   "execution_count": 134,
   "metadata": {},
   "outputs": [
    {
     "name": "stdout",
     "output_type": "stream",
     "text": [
      "[0.60612022 0.59759563 0.6        0.60699454 0.60043716]\n"
     ]
    }
   ],
   "source": [
    "clf = LogisticRegression()\n",
    "scores = cross_val_score(clf, training_features, training_targets, cv=5)\n",
    "print(scores)"
   ]
  },
  {
   "cell_type": "code",
   "execution_count": 135,
   "metadata": {},
   "outputs": [
    {
     "name": "stdout",
     "output_type": "stream",
     "text": [
      "Illinois Businesses Boosting Classifier Scores [0.65857923 0.64590164 0.63846995 0.64043716 0.63103825]\n",
      "Illinois Businesses Boosting Classifier Mean Score 0.6428852459016394\n"
     ]
    }
   ],
   "source": [
    "clf = ensemble.GradientBoostingClassifier()\n",
    "scores = cross_val_score(clf, training_features, training_targets, cv=5)\n",
    "print('Illinois Businesses Boosting Classifier Scores', scores)\n",
    "print('Illinois Businesses Boosting Classifier Mean Score', np.mean(scores))"
   ]
  },
  {
   "cell_type": "code",
   "execution_count": 137,
   "metadata": {},
   "outputs": [
    {
     "name": "stdout",
     "output_type": "stream",
     "text": [
      "National Neighbor Data Logistic Regression ROC AUC scores [0.6490527  0.63211656 0.63835345 0.64230937 0.63410408]\n",
      "National Neighbor Data Logistic Regression ROC AUC Mean score 0.6391872311116955\n",
      "\n",
      "National Neighbor Data Boosting Classifier ROC AUC scores [0.70735397 0.69580649 0.68652956 0.69930529 0.68421973]\n",
      "National Neighbor Data Boosting Classifier ROC AUC Mean score 0.694643007298779\n"
     ]
    }
   ],
   "source": [
    "clf = LogisticRegression()\n",
    "scores = cross_val_score(clf, training_features, training_targets, cv=5, scoring='roc_auc')\n",
    "print('National Neighbor Data Logistic Regression ROC AUC scores', scores)\n",
    "print('National Neighbor Data Logistic Regression ROC AUC Mean score', np.mean(scores))\n",
    "print()\n",
    "\n",
    "clf = ensemble.GradientBoostingClassifier()\n",
    "scores = cross_val_score(clf, training_features, training_targets, cv=5, scoring='roc_auc')\n",
    "print('National Neighbor Data Boosting Classifier ROC AUC scores', scores)\n",
    "print('National Neighbor Data Boosting Classifier ROC AUC Mean score', np.mean(scores))"
   ]
  },
  {
   "cell_type": "code",
   "execution_count": 126,
   "metadata": {},
   "outputs": [
    {
     "name": "stdout",
     "output_type": "stream",
     "text": [
      "Illinois Businesses Boosting Classifier Scores [0.63825137 0.64546448 0.63300546 0.63693989 0.62622951]\n",
      "Illinois Businesses Boosting Classifier Mean Score 0.6359781420765028\n"
     ]
    }
   ],
   "source": [
    "clf = ensemble.GradientBoostingClassifier()\n",
    "scores = cross_val_score(clf, training_features, training_targets, cv=5)\n",
    "print('Illinois Businesses Boosting Classifier Scores', scores)\n",
    "print('Illinois Businesses Boosting Classifier Mean Score', np.mean(scores))"
   ]
  }
 ],
 "metadata": {
  "kernelspec": {
   "display_name": "Python 3",
   "language": "python",
   "name": "python3"
  },
  "language_info": {
   "codemirror_mode": {
    "name": "ipython",
    "version": 3
   },
   "file_extension": ".py",
   "mimetype": "text/x-python",
   "name": "python",
   "nbconvert_exporter": "python",
   "pygments_lexer": "ipython3",
   "version": "3.6.10"
  }
 },
 "nbformat": 4,
 "nbformat_minor": 4
}
