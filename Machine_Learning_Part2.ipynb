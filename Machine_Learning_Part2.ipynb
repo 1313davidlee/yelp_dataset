{
 "cells": [
  {
   "cell_type": "code",
   "execution_count": 1,
   "metadata": {},
   "outputs": [],
   "source": [
    "from sklearn.linear_model import LinearRegression\n",
    "from sklearn.model_selection import cross_val_score\n",
    "from sklearn import ensemble\n",
    "from sklearn.model_selection import GridSearchCV\n",
    "from sklearn.linear_model import LogisticRegression\n",
    "from sklearn.metrics import roc_auc_score\n",
    "import numpy as np\n",
    "from sklearn import datasets\n",
    "import pandas as pd\n",
    "\n",
    "\n",
    "from math import sin, cos, sqrt, atan2, radians\n",
    "\n",
    "#sentiment packages\n",
    "from textblob import TextBlob"
   ]
  },
  {
   "cell_type": "code",
   "execution_count": 2,
   "metadata": {},
   "outputs": [],
   "source": [
    "# load businesses with national neighbor data\n",
    "business_df = pd.read_json('completed_distance_df.json', lines=False)\n"
   ]
  },
  {
   "cell_type": "code",
   "execution_count": 156,
   "metadata": {},
   "outputs": [
    {
     "data": {
      "text/plain": [
       "'Restaurants, Asian Fusion, Sushi Bars'"
      ]
     },
     "execution_count": 156,
     "metadata": {},
     "output_type": "execute_result"
    }
   ],
   "source": [
    "business_df.categories[22]"
   ]
  },
  {
   "cell_type": "code",
   "execution_count": 220,
   "metadata": {},
   "outputs": [],
   "source": [
    "business_df['is_restaurant'] = business_df[['categories']].applymap(lambda x: helper(x, 'restaurant'))\n",
    "business_df['is_shopping'] = business_df[['categories']].applymap(lambda x: helper(x, 'shopping'))"
   ]
  },
  {
   "cell_type": "code",
   "execution_count": 221,
   "metadata": {},
   "outputs": [
    {
     "data": {
      "text/html": [
       "<div>\n",
       "<style scoped>\n",
       "    .dataframe tbody tr th:only-of-type {\n",
       "        vertical-align: middle;\n",
       "    }\n",
       "\n",
       "    .dataframe tbody tr th {\n",
       "        vertical-align: top;\n",
       "    }\n",
       "\n",
       "    .dataframe thead th {\n",
       "        text-align: right;\n",
       "    }\n",
       "</style>\n",
       "<table border=\"1\" class=\"dataframe\">\n",
       "  <thead>\n",
       "    <tr style=\"text-align: right;\">\n",
       "      <th></th>\n",
       "      <th>business_id</th>\n",
       "      <th>name</th>\n",
       "      <th>address</th>\n",
       "      <th>city</th>\n",
       "      <th>state</th>\n",
       "      <th>postal_code</th>\n",
       "      <th>latitude</th>\n",
       "      <th>longitude</th>\n",
       "      <th>stars</th>\n",
       "      <th>review_count</th>\n",
       "      <th>...</th>\n",
       "      <th>hours</th>\n",
       "      <th>chain</th>\n",
       "      <th>tip_count</th>\n",
       "      <th>mean_tip_sentiment</th>\n",
       "      <th>.1_km</th>\n",
       "      <th>.3_km</th>\n",
       "      <th>.1_count</th>\n",
       "      <th>.3_count</th>\n",
       "      <th>is_restaurant</th>\n",
       "      <th>is_shopping</th>\n",
       "    </tr>\n",
       "  </thead>\n",
       "  <tbody>\n",
       "    <tr>\n",
       "      <th>0</th>\n",
       "      <td>tsXCDIijxbgsh980VgRc9g</td>\n",
       "      <td>Federal Companies</td>\n",
       "      <td>401 W Kenyon Rd</td>\n",
       "      <td>Champaign</td>\n",
       "      <td>IL</td>\n",
       "      <td>61820</td>\n",
       "      <td>40.133919</td>\n",
       "      <td>-88.248628</td>\n",
       "      <td>3.0</td>\n",
       "      <td>11</td>\n",
       "      <td>...</td>\n",
       "      <td>{'Monday': '0:0-0:0', 'Tuesday': '8:0-17:0', '...</td>\n",
       "      <td>False</td>\n",
       "      <td>0</td>\n",
       "      <td>0.252695</td>\n",
       "      <td>[[bd_qQhLpRvcd1rL8XR5Sag, 0.0792927127], [3QMq...</td>\n",
       "      <td>[[bd_qQhLpRvcd1rL8XR5Sag, 0.0792927127], [gnGM...</td>\n",
       "      <td>2</td>\n",
       "      <td>5</td>\n",
       "      <td>0</td>\n",
       "      <td>0</td>\n",
       "    </tr>\n",
       "    <tr>\n",
       "      <th>1</th>\n",
       "      <td>fsklFcY47qJIr0mjgobuUg</td>\n",
       "      <td>Ford City</td>\n",
       "      <td>300 Carriage Center Ct</td>\n",
       "      <td>Champaign</td>\n",
       "      <td>IL</td>\n",
       "      <td>61820</td>\n",
       "      <td>40.090444</td>\n",
       "      <td>-88.247430</td>\n",
       "      <td>2.5</td>\n",
       "      <td>3</td>\n",
       "      <td>...</td>\n",
       "      <td>{'Monday': '8:0-19:0', 'Tuesday': '8:0-19:0', ...</td>\n",
       "      <td>False</td>\n",
       "      <td>0</td>\n",
       "      <td>0.252695</td>\n",
       "      <td>[[6mYtRm6smtgt29hLxt1vDA, 0.047386416], [eJtmO...</td>\n",
       "      <td>[[YG3cf30rN3K9H56-JOG6Iw, 0.1704667473], [yDfO...</td>\n",
       "      <td>8</td>\n",
       "      <td>30</td>\n",
       "      <td>0</td>\n",
       "      <td>0</td>\n",
       "    </tr>\n",
       "    <tr>\n",
       "      <th>2</th>\n",
       "      <td>mofOjB6flg-eAWOFbOkHfQ</td>\n",
       "      <td>ChinaTown Buffet</td>\n",
       "      <td>713 W Marketview Dr</td>\n",
       "      <td>Champaign</td>\n",
       "      <td>IL</td>\n",
       "      <td>61822</td>\n",
       "      <td>40.137270</td>\n",
       "      <td>-88.256043</td>\n",
       "      <td>2.5</td>\n",
       "      <td>72</td>\n",
       "      <td>...</td>\n",
       "      <td>{'Monday': '11:0-21:0', 'Tuesday': '11:0-21:0'...</td>\n",
       "      <td>False</td>\n",
       "      <td>4</td>\n",
       "      <td>0.495312</td>\n",
       "      <td>[[8ed4YmEWPr5nfau82-OtCA, 0.0919277205], [AUoY...</td>\n",
       "      <td>[[_9lnbDRvashBE9ey5gAJfg, 0.1604202278], [afvF...</td>\n",
       "      <td>5</td>\n",
       "      <td>23</td>\n",
       "      <td>1</td>\n",
       "      <td>0</td>\n",
       "    </tr>\n",
       "    <tr>\n",
       "      <th>3</th>\n",
       "      <td>P4HqDYI1icascvcwca7iLg</td>\n",
       "      <td>Macy's</td>\n",
       "      <td>2000 N Neil St</td>\n",
       "      <td>Champaign</td>\n",
       "      <td>IL</td>\n",
       "      <td>61820</td>\n",
       "      <td>40.141029</td>\n",
       "      <td>-88.244222</td>\n",
       "      <td>2.5</td>\n",
       "      <td>12</td>\n",
       "      <td>...</td>\n",
       "      <td>{'Monday': '10:0-20:0', 'Tuesday': '9:0-22:0',...</td>\n",
       "      <td>True</td>\n",
       "      <td>2</td>\n",
       "      <td>-0.585000</td>\n",
       "      <td>[[TQg3tu8U3x8OaC2R4KKh7g, 0.0362019815]]</td>\n",
       "      <td>[[B_dwXxYZvEL032j9kUHz9w, 0.2343176697], [y2V4...</td>\n",
       "      <td>1</td>\n",
       "      <td>50</td>\n",
       "      <td>0</td>\n",
       "      <td>1</td>\n",
       "    </tr>\n",
       "    <tr>\n",
       "      <th>4</th>\n",
       "      <td>eezVjNlzIZrXs9GM5O8b2w</td>\n",
       "      <td>Vape Vault</td>\n",
       "      <td>723 S Neil St</td>\n",
       "      <td>Champaign</td>\n",
       "      <td>IL</td>\n",
       "      <td>61820</td>\n",
       "      <td>40.107126</td>\n",
       "      <td>-88.243912</td>\n",
       "      <td>4.0</td>\n",
       "      <td>5</td>\n",
       "      <td>...</td>\n",
       "      <td>{'Monday': '0:0-0:0', 'Tuesday': '9:0-21:0', '...</td>\n",
       "      <td>False</td>\n",
       "      <td>1</td>\n",
       "      <td>0.494444</td>\n",
       "      <td>[[N5Kcf0cdnL9GYLSYZrnTVw, 0.07163558140000001]...</td>\n",
       "      <td>[[N5Kcf0cdnL9GYLSYZrnTVw, 0.07163558140000001]...</td>\n",
       "      <td>15</td>\n",
       "      <td>30</td>\n",
       "      <td>0</td>\n",
       "      <td>1</td>\n",
       "    </tr>\n",
       "  </tbody>\n",
       "</table>\n",
       "<p>5 rows × 23 columns</p>\n",
       "</div>"
      ],
      "text/plain": [
       "              business_id               name                 address  \\\n",
       "0  tsXCDIijxbgsh980VgRc9g  Federal Companies         401 W Kenyon Rd   \n",
       "1  fsklFcY47qJIr0mjgobuUg          Ford City  300 Carriage Center Ct   \n",
       "2  mofOjB6flg-eAWOFbOkHfQ   ChinaTown Buffet     713 W Marketview Dr   \n",
       "3  P4HqDYI1icascvcwca7iLg             Macy's          2000 N Neil St   \n",
       "4  eezVjNlzIZrXs9GM5O8b2w         Vape Vault           723 S Neil St   \n",
       "\n",
       "        city state postal_code   latitude  longitude  stars  review_count  \\\n",
       "0  Champaign    IL       61820  40.133919 -88.248628    3.0            11   \n",
       "1  Champaign    IL       61820  40.090444 -88.247430    2.5             3   \n",
       "2  Champaign    IL       61822  40.137270 -88.256043    2.5            72   \n",
       "3  Champaign    IL       61820  40.141029 -88.244222    2.5            12   \n",
       "4  Champaign    IL       61820  40.107126 -88.243912    4.0             5   \n",
       "\n",
       "   ...                                              hours  chain tip_count  \\\n",
       "0  ...  {'Monday': '0:0-0:0', 'Tuesday': '8:0-17:0', '...  False         0   \n",
       "1  ...  {'Monday': '8:0-19:0', 'Tuesday': '8:0-19:0', ...  False         0   \n",
       "2  ...  {'Monday': '11:0-21:0', 'Tuesday': '11:0-21:0'...  False         4   \n",
       "3  ...  {'Monday': '10:0-20:0', 'Tuesday': '9:0-22:0',...   True         2   \n",
       "4  ...  {'Monday': '0:0-0:0', 'Tuesday': '9:0-21:0', '...  False         1   \n",
       "\n",
       "  mean_tip_sentiment                                              .1_km  \\\n",
       "0           0.252695  [[bd_qQhLpRvcd1rL8XR5Sag, 0.0792927127], [3QMq...   \n",
       "1           0.252695  [[6mYtRm6smtgt29hLxt1vDA, 0.047386416], [eJtmO...   \n",
       "2           0.495312  [[8ed4YmEWPr5nfau82-OtCA, 0.0919277205], [AUoY...   \n",
       "3          -0.585000           [[TQg3tu8U3x8OaC2R4KKh7g, 0.0362019815]]   \n",
       "4           0.494444  [[N5Kcf0cdnL9GYLSYZrnTVw, 0.07163558140000001]...   \n",
       "\n",
       "                                               .3_km  .1_count .3_count  \\\n",
       "0  [[bd_qQhLpRvcd1rL8XR5Sag, 0.0792927127], [gnGM...         2        5   \n",
       "1  [[YG3cf30rN3K9H56-JOG6Iw, 0.1704667473], [yDfO...         8       30   \n",
       "2  [[_9lnbDRvashBE9ey5gAJfg, 0.1604202278], [afvF...         5       23   \n",
       "3  [[B_dwXxYZvEL032j9kUHz9w, 0.2343176697], [y2V4...         1       50   \n",
       "4  [[N5Kcf0cdnL9GYLSYZrnTVw, 0.07163558140000001]...        15       30   \n",
       "\n",
       "  is_restaurant  is_shopping  \n",
       "0             0            0  \n",
       "1             0            0  \n",
       "2             1            0  \n",
       "3             0            1  \n",
       "4             0            1  \n",
       "\n",
       "[5 rows x 23 columns]"
      ]
     },
     "execution_count": 221,
     "metadata": {},
     "output_type": "execute_result"
    }
   ],
   "source": [
    "business_df.head()"
   ]
  },
  {
   "cell_type": "code",
   "execution_count": null,
   "metadata": {},
   "outputs": [],
   "source": []
  },
  {
   "cell_type": "code",
   "execution_count": 219,
   "metadata": {},
   "outputs": [],
   "source": [
    "restaurant_words = ['restaurant', 'bar', 'diner', 'pub', 'food']\n",
    "shopping_words = ['shopping']\n",
    "def helper(x, business_type):\n",
    "    if business_type == 'restaurant':\n",
    "        dictionary = restaurant_words\n",
    "    elif business_type == 'shopping':\n",
    "        dictionary = shopping_words\n",
    "        \n",
    "    if type(x) != str:\n",
    "        return 0\n",
    "    x = x.split(\",\")\n",
    "    for word in x:\n",
    "        for word2 in dictionary:\n",
    "            if word2.lower() in word.lower():\n",
    "                return 1\n",
    "    return 0"
   ]
  },
  {
   "cell_type": "code",
   "execution_count": null,
   "metadata": {},
   "outputs": [],
   "source": []
  },
  {
   "cell_type": "code",
   "execution_count": 222,
   "metadata": {},
   "outputs": [],
   "source": [
    "#even split of set\n",
    "from sklearn.model_selection import train_test_split\n",
    "\n",
    "closed_businesses = business_df[business_df['is_open'] == 0]\n",
    "open_businesses = business_df[business_df['is_open'] == 1]\n",
    "\n",
    "random_open, _ = train_test_split(open_businesses, train_size = closed_businesses.shape[0])\n",
    "\n",
    "even_split_data = pd.concat([closed_businesses, random_open], ignore_index=True)\n"
   ]
  },
  {
   "cell_type": "code",
   "execution_count": 223,
   "metadata": {},
   "outputs": [],
   "source": [
    "even_split_features = even_split_data[['stars', 'review_count', 'tip_count', 'chain', '.1_count', '.3_count', 'mean_tip_sentiment', 'is_restaurant', 'is_shopping']]\n",
    "even_split_targets = even_split_data['is_open']"
   ]
  },
  {
   "cell_type": "code",
   "execution_count": 104,
   "metadata": {},
   "outputs": [],
   "source": [
    "from sklearn.preprocessing import MinMaxScaler"
   ]
  },
  {
   "cell_type": "code",
   "execution_count": 224,
   "metadata": {},
   "outputs": [],
   "source": [
    "scaler = MinMaxScaler()\n",
    "scaler.fit(even_split_features)\n",
    "normalized_features = scaler.transform(even_split_features)\n",
    "\n",
    "even_split_targets = even_split_targets.to_numpy()"
   ]
  },
  {
   "cell_type": "code",
   "execution_count": 226,
   "metadata": {},
   "outputs": [],
   "source": [
    "#do not touch\n",
    "training_features, test_features, training_targets, test_targets = train_test_split(normalized_features, even_split_targets, test_size = 1)\n"
   ]
  },
  {
   "cell_type": "code",
   "execution_count": null,
   "metadata": {},
   "outputs": [],
   "source": [
    "#experiment zone\n",
    "experiment_even_split_features = even_split_data[['stars', 'review_count', 'tip_count', 'chain', '.1_count', '.3_count', 'mean_tip_sentiment']]\n",
    "experiment_even_split_targets = even_split_data['is_open']\n",
    "\n",
    "experiment_scaler = MinMaxScaler()\n",
    "experiment_scaler.fit(even_split_features)\n",
    "experiment_normalized_features = scaler.transform(even_split_features)\n",
    "\n",
    "experiment_even_split_targets = even_split_targets.to_numpy()\n",
    "\n",
    "experiment_training_features, experiment_test_features, experiment_training_targets, experiment_test_targets = train_test_split(experiment_normalized_features, experiment_even_split_targets, test_size = 1)\n"
   ]
  },
  {
   "cell_type": "code",
   "execution_count": null,
   "metadata": {},
   "outputs": [],
   "source": []
  },
  {
   "cell_type": "code",
   "execution_count": 227,
   "metadata": {},
   "outputs": [
    {
     "name": "stdout",
     "output_type": "stream",
     "text": [
      "[0.65836066 0.65486339 0.6504918  0.64721311 0.63300546]\n"
     ]
    }
   ],
   "source": [
    "clf = LogisticRegression()\n",
    "scores = cross_val_score(clf, training_features, training_targets, cv=5)\n",
    "print(scores)"
   ]
  },
  {
   "cell_type": "code",
   "execution_count": 228,
   "metadata": {},
   "outputs": [
    {
     "name": "stdout",
     "output_type": "stream",
     "text": [
      "Illinois Businesses Boosting Classifier Scores [0.68546448 0.66863388 0.68393443 0.67060109 0.66666667]\n",
      "Illinois Businesses Boosting Classifier Mean Score 0.6750601092896175\n"
     ]
    }
   ],
   "source": [
    "clf = ensemble.GradientBoostingClassifier()\n",
    "scores = cross_val_score(clf, training_features, training_targets, cv=5)\n",
    "print('Illinois Businesses Boosting Classifier Scores', scores)\n",
    "print('Illinois Businesses Boosting Classifier Mean Score', np.mean(scores))"
   ]
  },
  {
   "cell_type": "code",
   "execution_count": 137,
   "metadata": {},
   "outputs": [
    {
     "name": "stdout",
     "output_type": "stream",
     "text": [
      "National Neighbor Data Logistic Regression ROC AUC scores [0.6490527  0.63211656 0.63835345 0.64230937 0.63410408]\n",
      "National Neighbor Data Logistic Regression ROC AUC Mean score 0.6391872311116955\n",
      "\n",
      "National Neighbor Data Boosting Classifier ROC AUC scores [0.70735397 0.69580649 0.68652956 0.69930529 0.68421973]\n",
      "National Neighbor Data Boosting Classifier ROC AUC Mean score 0.694643007298779\n"
     ]
    }
   ],
   "source": [
    "clf = LogisticRegression()\n",
    "scores = cross_val_score(clf, training_features, training_targets, cv=5, scoring='roc_auc')\n",
    "print('National Neighbor Data Logistic Regression ROC AUC scores', scores)\n",
    "print('National Neighbor Data Logistic Regression ROC AUC Mean score', np.mean(scores))\n",
    "print()\n",
    "\n",
    "clf = ensemble.GradientBoostingClassifier()\n",
    "scores = cross_val_score(clf, training_features, training_targets, cv=5, scoring='roc_auc')\n",
    "print('National Neighbor Data Boosting Classifier ROC AUC scores', scores)\n",
    "print('National Neighbor Data Boosting Classifier ROC AUC Mean score', np.mean(scores))"
   ]
  },
  {
   "cell_type": "code",
   "execution_count": 126,
   "metadata": {},
   "outputs": [
    {
     "name": "stdout",
     "output_type": "stream",
     "text": [
      "Illinois Businesses Boosting Classifier Scores [0.63825137 0.64546448 0.63300546 0.63693989 0.62622951]\n",
      "Illinois Businesses Boosting Classifier Mean Score 0.6359781420765028\n"
     ]
    }
   ],
   "source": [
    "clf = ensemble.GradientBoostingClassifier()\n",
    "scores = cross_val_score(clf, training_features, training_targets, cv=5)\n",
    "print('Illinois Businesses Boosting Classifier Scores', scores)\n",
    "print('Illinois Businesses Boosting Classifier Mean Score', np.mean(scores))"
   ]
  }
 ],
 "metadata": {
  "kernelspec": {
   "display_name": "Python 3",
   "language": "python",
   "name": "python3"
  },
  "language_info": {
   "codemirror_mode": {
    "name": "ipython",
    "version": 3
   },
   "file_extension": ".py",
   "mimetype": "text/x-python",
   "name": "python",
   "nbconvert_exporter": "python",
   "pygments_lexer": "ipython3",
   "version": "3.6.10"
  }
 },
 "nbformat": 4,
 "nbformat_minor": 4
}
