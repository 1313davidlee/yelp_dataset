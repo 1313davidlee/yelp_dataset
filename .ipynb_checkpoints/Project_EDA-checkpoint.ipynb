{
 "cells": [
  {
   "cell_type": "code",
   "execution_count": 167,
   "metadata": {},
   "outputs": [],
   "source": [
    "import pandas as pd\n",
    "import matplotlib.pyplot as plt\n",
    "from numpy import random\n",
    "import numpy as np\n",
    "import numbers\n",
    "from scipy import stats\n"
   ]
  },
  {
   "cell_type": "code",
   "execution_count": 2,
   "metadata": {},
   "outputs": [
    {
     "name": "stdout",
     "output_type": "stream",
     "text": [
      "<class 'pandas.core.frame.DataFrame'>\n",
      "RangeIndex: 192609 entries, 0 to 192608\n",
      "Data columns (total 14 columns):\n",
      " #   Column        Non-Null Count   Dtype  \n",
      "---  ------        --------------   -----  \n",
      " 0   business_id   192609 non-null  object \n",
      " 1   name          192609 non-null  object \n",
      " 2   address       192609 non-null  object \n",
      " 3   city          192609 non-null  object \n",
      " 4   state         192609 non-null  object \n",
      " 5   postal_code   192609 non-null  object \n",
      " 6   latitude      192609 non-null  float64\n",
      " 7   longitude     192609 non-null  float64\n",
      " 8   stars         192609 non-null  float64\n",
      " 9   review_count  192609 non-null  int64  \n",
      " 10  is_open       192609 non-null  int64  \n",
      " 11  attributes    163773 non-null  object \n",
      " 12  categories    192127 non-null  object \n",
      " 13  hours         147779 non-null  object \n",
      "dtypes: float64(3), int64(2), object(9)\n",
      "memory usage: 20.6+ MB\n"
     ]
    }
   ],
   "source": [
    "business_df = pd.read_json('business.json', lines=True)\n",
    "business_df.info()"
   ]
  },
  {
   "cell_type": "code",
   "execution_count": 3,
   "metadata": {},
   "outputs": [
    {
     "name": "stdout",
     "output_type": "stream",
     "text": [
      "business_id         0\n",
      "name                0\n",
      "address             0\n",
      "city                0\n",
      "state               0\n",
      "postal_code         0\n",
      "latitude            0\n",
      "longitude           0\n",
      "stars               0\n",
      "review_count        0\n",
      "is_open             0\n",
      "attributes      28836\n",
      "categories        482\n",
      "hours           44830\n",
      "dtype: int64\n"
     ]
    }
   ],
   "source": [
    "# Count nulls in each column\n",
    "print(business_df.isnull().sum())"
   ]
  },
  {
   "cell_type": "code",
   "execution_count": 13,
   "metadata": {},
   "outputs": [
    {
     "name": "stdout",
     "output_type": "stream",
     "text": [
      "158525\n",
      "34084\n"
     ]
    },
    {
     "data": {
      "image/png": "[encoded data removed]",
      "text/plain": [
       "<Figure size 432x288 with 1 Axes>"
      ]
     },
     "metadata": {
      "needs_background": "light"
     },
     "output_type": "display_data"
    }
   ],
   "source": [
    "num_open = business_df['is_open'].sum()\n",
    "num_closed = business_df.shape[0] - num_open\n",
    "print(num_open)\n",
    "print(num_closed)\n",
    "\n",
    "plt.bar(['Open', 'Closed'], [num_open, num_closed])\n",
    "plt.show()"
   ]
  },
  {
   "cell_type": "code",
   "execution_count": 15,
   "metadata": {},
   "outputs": [
    {
     "data": {
      "image/png": "[encoded data removed]",
      "text/plain": [
       "<Figure size 648x432 with 1 Axes>"
      ]
     },
     "metadata": {
      "needs_background": "light"
     },
     "output_type": "display_data"
    }
   ],
   "source": [
    "open_stars = business_df[business_df['is_open'] == 1]['stars'].dropna()\n",
    "closed_stars = business_df[business_df['is_open'] == 0]['stars'].dropna()\n",
    "\n",
    "# Create a figure instance\n",
    "fig = plt.figure(1, figsize=(9, 6))\n",
    "\n",
    "# Create an axes instance\n",
    "ax = fig.add_subplot(111)\n",
    "ax.set_xticklabels(['Open', 'Closed'])\n",
    "\n",
    "data_to_plot = [open_stars, closed_stars]\n",
    "bp = ax.boxplot(data_to_plot)\n",
    "plt.ylabel('Stars')\n",
    "plt.xlabel('Status')\n",
    "plt.show()\n",
    "\n"
   ]
  },
  {
   "cell_type": "code",
   "execution_count": 173,
   "metadata": {},
   "outputs": [
    {
     "data": {
      "image/png": "[encoded data removed]",
      "text/plain": [
       "<Figure size 432x288 with 1 Axes>"
      ]
     },
     "metadata": {
      "needs_background": "light"
     },
     "output_type": "display_data"
    }
   ],
   "source": [
    "def qqplot(x, y):\n",
    "    ax = plt.gca()\n",
    "    quantiles = min(len(x), len(y))\n",
    "\n",
    "    # Compute quantiles of the two samples\n",
    "    if isinstance(quantiles, numbers.Integral):\n",
    "        quantiles = np.linspace(start=0, stop=1, num=int(quantiles))\n",
    "    else:\n",
    "        quantiles = np.atleast_1d(np.sort(quantiles))\n",
    "    x_quantiles = np.quantile(x, quantiles, interpolation='nearest')\n",
    "    y_quantiles = np.quantile(y, quantiles, interpolation='nearest')\n",
    "\n",
    "    # Draw the q-q plot\n",
    "    ax.scatter(x_quantiles, y_quantiles)\n",
    "\n",
    "\n",
    "# Data\n",
    "y = open_stars\n",
    "x = closed_stars\n",
    "\n",
    "# Generate QQ plot\n",
    "a = [x for x in range(7)]\n",
    "plt.figure()\n",
    "plt.plot(a, a, \"k--\", linewidth=1)\n",
    "qqplot(x, y)\n",
    "plt.xlabel('Closed Business - Stars')\n",
    "plt.ylabel('Open Business - Stars')\n",
    "plt.title('QQ Plot')\n",
    "plt.show()"
   ]
  },
  {
   "cell_type": "code",
   "execution_count": null,
   "metadata": {},
   "outputs": [],
   "source": []
  },
  {
   "cell_type": "code",
   "execution_count": 20,
   "metadata": {},
   "outputs": [
    {
     "name": "stdout",
     "output_type": "stream",
     "text": [
      "<class 'pandas.core.frame.DataFrame'>\n",
      "RangeIndex: 1223094 entries, 0 to 1223093\n",
      "Data columns (total 5 columns):\n",
      " #   Column            Non-Null Count    Dtype         \n",
      "---  ------            --------------    -----         \n",
      " 0   user_id           1223094 non-null  object        \n",
      " 1   business_id       1223094 non-null  object        \n",
      " 2   text              1223094 non-null  object        \n",
      " 3   date              1223094 non-null  datetime64[ns]\n",
      " 4   compliment_count  1223094 non-null  int64         \n",
      "dtypes: datetime64[ns](1), int64(1), object(3)\n",
      "memory usage: 46.7+ MB\n"
     ]
    }
   ],
   "source": [
    "tip_df = pd.read_json('tip.json', lines=True)\n",
    "tip_df.info()"
   ]
  },
  {
   "cell_type": "code",
   "execution_count": 28,
   "metadata": {},
   "outputs": [],
   "source": [
    "bzn_tips = {}\n",
    "for index, tip in tip_df.iterrows():\n",
    "    business_id = tip['business_id']\n",
    "    if business_id in bzn_tips:\n",
    "        bzn_tips[business_id] += 1\n",
    "    else:\n",
    "        bzn_tips[business_id] = 1\n"
   ]
  },
  {
   "cell_type": "code",
   "execution_count": null,
   "metadata": {},
   "outputs": [],
   "source": []
  },
  {
   "cell_type": "code",
   "execution_count": 49,
   "metadata": {},
   "outputs": [
    {
     "name": "stdout",
     "output_type": "stream",
     "text": [
      "<class 'pandas.core.frame.DataFrame'>\n",
      "RangeIndex: 192609 entries, 0 to 192608\n",
      "Data columns (total 15 columns):\n",
      " #   Column        Non-Null Count   Dtype  \n",
      "---  ------        --------------   -----  \n",
      " 0   business_id   192609 non-null  object \n",
      " 1   name          192609 non-null  object \n",
      " 2   address       192609 non-null  object \n",
      " 3   city          192609 non-null  object \n",
      " 4   state         192609 non-null  object \n",
      " 5   postal_code   192609 non-null  object \n",
      " 6   latitude      192609 non-null  float64\n",
      " 7   longitude     192609 non-null  float64\n",
      " 8   stars         192609 non-null  float64\n",
      " 9   review_count  192609 non-null  int64  \n",
      " 10  is_open       192609 non-null  int64  \n",
      " 11  attributes    163773 non-null  object \n",
      " 12  categories    192127 non-null  object \n",
      " 13  hours         147779 non-null  object \n",
      " 14  tip_count     192609 non-null  int64  \n",
      "dtypes: float64(3), int64(3), object(9)\n",
      "memory usage: 22.0+ MB\n"
     ]
    }
   ],
   "source": [
    "business_df['tip_count'] = 0\n",
    "business_df.info()\n",
    "\n",
    "for index, business in business_df.iterrows():\n",
    "    business_id = business['business_id']\n",
    "    if business_id in bzn_tips:\n",
    "        business_df.at[index, 'tip_count'] = bzn_tips[business_id]\n"
   ]
  },
  {
   "cell_type": "code",
   "execution_count": null,
   "metadata": {},
   "outputs": [],
   "source": []
  },
  {
   "cell_type": "code",
   "execution_count": 50,
   "metadata": {},
   "outputs": [
    {
     "data": {
      "text/html": [
       "<div>\n",
       "<style scoped>\n",
       "    .dataframe tbody tr th:only-of-type {\n",
       "        vertical-align: middle;\n",
       "    }\n",
       "\n",
       "    .dataframe tbody tr th {\n",
       "        vertical-align: top;\n",
       "    }\n",
       "\n",
       "    .dataframe thead th {\n",
       "        text-align: right;\n",
       "    }\n",
       "</style>\n",
       "<table border=\"1\" class=\"dataframe\">\n",
       "  <thead>\n",
       "    <tr style=\"text-align: right;\">\n",
       "      <th></th>\n",
       "      <th>business_id</th>\n",
       "      <th>name</th>\n",
       "      <th>address</th>\n",
       "      <th>city</th>\n",
       "      <th>state</th>\n",
       "      <th>postal_code</th>\n",
       "      <th>latitude</th>\n",
       "      <th>longitude</th>\n",
       "      <th>stars</th>\n",
       "      <th>review_count</th>\n",
       "      <th>is_open</th>\n",
       "      <th>attributes</th>\n",
       "      <th>categories</th>\n",
       "      <th>hours</th>\n",
       "      <th>tip_count</th>\n",
       "    </tr>\n",
       "  </thead>\n",
       "  <tbody>\n",
       "    <tr>\n",
       "      <th>0</th>\n",
       "      <td>1SWheh84yJXfytovILXOAQ</td>\n",
       "      <td>Arizona Biltmore Golf Club</td>\n",
       "      <td>2818 E Camino Acequia Drive</td>\n",
       "      <td>Phoenix</td>\n",
       "      <td>AZ</td>\n",
       "      <td>85016</td>\n",
       "      <td>33.522143</td>\n",
       "      <td>-112.018481</td>\n",
       "      <td>3.0</td>\n",
       "      <td>5</td>\n",
       "      <td>0</td>\n",
       "      <td>{'GoodForKids': 'False'}</td>\n",
       "      <td>Golf, Active Life</td>\n",
       "      <td>None</td>\n",
       "      <td>1</td>\n",
       "    </tr>\n",
       "    <tr>\n",
       "      <th>1</th>\n",
       "      <td>QXAEGFB4oINsVuTFxEYKFQ</td>\n",
       "      <td>Emerald Chinese Restaurant</td>\n",
       "      <td>30 Eglinton Avenue W</td>\n",
       "      <td>Mississauga</td>\n",
       "      <td>ON</td>\n",
       "      <td>L5R 3E7</td>\n",
       "      <td>43.605499</td>\n",
       "      <td>-79.652289</td>\n",
       "      <td>2.5</td>\n",
       "      <td>128</td>\n",
       "      <td>1</td>\n",
       "      <td>{'RestaurantsReservations': 'True', 'GoodForMe...</td>\n",
       "      <td>Specialty Food, Restaurants, Dim Sum, Imported...</td>\n",
       "      <td>{'Monday': '9:0-0:0', 'Tuesday': '9:0-0:0', 'W...</td>\n",
       "      <td>22</td>\n",
       "    </tr>\n",
       "    <tr>\n",
       "      <th>2</th>\n",
       "      <td>gnKjwL_1w79qoiV3IC_xQQ</td>\n",
       "      <td>Musashi Japanese Restaurant</td>\n",
       "      <td>10110 Johnston Rd, Ste 15</td>\n",
       "      <td>Charlotte</td>\n",
       "      <td>NC</td>\n",
       "      <td>28210</td>\n",
       "      <td>35.092564</td>\n",
       "      <td>-80.859132</td>\n",
       "      <td>4.0</td>\n",
       "      <td>170</td>\n",
       "      <td>1</td>\n",
       "      <td>{'GoodForKids': 'True', 'NoiseLevel': 'u'avera...</td>\n",
       "      <td>Sushi Bars, Restaurants, Japanese</td>\n",
       "      <td>{'Monday': '17:30-21:30', 'Wednesday': '17:30-...</td>\n",
       "      <td>37</td>\n",
       "    </tr>\n",
       "    <tr>\n",
       "      <th>3</th>\n",
       "      <td>xvX2CttrVhyG2z1dFg_0xw</td>\n",
       "      <td>Farmers Insurance - Paul Lorenz</td>\n",
       "      <td>15655 W Roosevelt St, Ste 237</td>\n",
       "      <td>Goodyear</td>\n",
       "      <td>AZ</td>\n",
       "      <td>85338</td>\n",
       "      <td>33.455613</td>\n",
       "      <td>-112.395596</td>\n",
       "      <td>5.0</td>\n",
       "      <td>3</td>\n",
       "      <td>1</td>\n",
       "      <td>None</td>\n",
       "      <td>Insurance, Financial Services</td>\n",
       "      <td>{'Monday': '8:0-17:0', 'Tuesday': '8:0-17:0', ...</td>\n",
       "      <td>0</td>\n",
       "    </tr>\n",
       "    <tr>\n",
       "      <th>4</th>\n",
       "      <td>HhyxOkGAM07SRYtlQ4wMFQ</td>\n",
       "      <td>Queen City Plumbing</td>\n",
       "      <td>4209 Stuart Andrew Blvd, Ste F</td>\n",
       "      <td>Charlotte</td>\n",
       "      <td>NC</td>\n",
       "      <td>28217</td>\n",
       "      <td>35.190012</td>\n",
       "      <td>-80.887223</td>\n",
       "      <td>4.0</td>\n",
       "      <td>4</td>\n",
       "      <td>1</td>\n",
       "      <td>{'BusinessAcceptsBitcoin': 'False', 'ByAppoint...</td>\n",
       "      <td>Plumbing, Shopping, Local Services, Home Servi...</td>\n",
       "      <td>{'Monday': '7:0-23:0', 'Tuesday': '7:0-23:0', ...</td>\n",
       "      <td>0</td>\n",
       "    </tr>\n",
       "    <tr>\n",
       "      <th>5</th>\n",
       "      <td>68dUKd8_8liJ7in4aWOSEA</td>\n",
       "      <td>The UPS Store</td>\n",
       "      <td>Credit Valley Town Plaza, F2 - 6045 Creditview Rd</td>\n",
       "      <td>Mississauga</td>\n",
       "      <td>ON</td>\n",
       "      <td>L5V 0B1</td>\n",
       "      <td>43.599475</td>\n",
       "      <td>-79.711584</td>\n",
       "      <td>2.5</td>\n",
       "      <td>3</td>\n",
       "      <td>1</td>\n",
       "      <td>{'BusinessParking': '{'garage': False, 'street...</td>\n",
       "      <td>Shipping Centers, Couriers &amp; Delivery Services...</td>\n",
       "      <td>{'Monday': '9:0-19:0', 'Tuesday': '9:0-20:0', ...</td>\n",
       "      <td>1</td>\n",
       "    </tr>\n",
       "    <tr>\n",
       "      <th>6</th>\n",
       "      <td>5JucpCfHZltJh5r1JabjDg</td>\n",
       "      <td>Edgeworxx Studio</td>\n",
       "      <td>20 Douglas Woods Drive Southeast</td>\n",
       "      <td>Calgary</td>\n",
       "      <td>AB</td>\n",
       "      <td>T2Z 1K4</td>\n",
       "      <td>50.943646</td>\n",
       "      <td>-114.001828</td>\n",
       "      <td>3.5</td>\n",
       "      <td>7</td>\n",
       "      <td>1</td>\n",
       "      <td>{'RestaurantsPriceRange2': '2', 'BusinessParki...</td>\n",
       "      <td>Beauty &amp; Spas, Hair Salons</td>\n",
       "      <td>None</td>\n",
       "      <td>1</td>\n",
       "    </tr>\n",
       "    <tr>\n",
       "      <th>7</th>\n",
       "      <td>gbQN7vr_caG_A1ugSmGhWg</td>\n",
       "      <td>Supercuts</td>\n",
       "      <td>4545 E Tropicana Rd Ste 8, Tropicana</td>\n",
       "      <td>Las Vegas</td>\n",
       "      <td>NV</td>\n",
       "      <td>89121</td>\n",
       "      <td>36.099872</td>\n",
       "      <td>-115.074574</td>\n",
       "      <td>3.5</td>\n",
       "      <td>3</td>\n",
       "      <td>1</td>\n",
       "      <td>{'RestaurantsPriceRange2': '3', 'GoodForKids':...</td>\n",
       "      <td>Hair Salons, Hair Stylists, Barbers, Men's Hai...</td>\n",
       "      <td>{'Monday': '10:0-19:0', 'Tuesday': '10:0-19:0'...</td>\n",
       "      <td>0</td>\n",
       "    </tr>\n",
       "    <tr>\n",
       "      <th>8</th>\n",
       "      <td>Y6iyemLX_oylRpnr38vgMA</td>\n",
       "      <td>Vita Bella Fine Day Spa</td>\n",
       "      <td>5940 W Union Hills Dr</td>\n",
       "      <td>Glendale</td>\n",
       "      <td>AZ</td>\n",
       "      <td>85308</td>\n",
       "      <td>33.654815</td>\n",
       "      <td>-112.188568</td>\n",
       "      <td>5.0</td>\n",
       "      <td>8</td>\n",
       "      <td>0</td>\n",
       "      <td>{'RestaurantsPriceRange2': '2', 'ByAppointment...</td>\n",
       "      <td>Nail Salons, Beauty &amp; Spas, Day Spas</td>\n",
       "      <td>{'Tuesday': '12:0-18:0', 'Wednesday': '10:0-18...</td>\n",
       "      <td>2</td>\n",
       "    </tr>\n",
       "    <tr>\n",
       "      <th>9</th>\n",
       "      <td>4GBVPIYRvzGh4K4TkRQ_rw</td>\n",
       "      <td>Options Salon &amp; Spa</td>\n",
       "      <td>21689 Lorain Rd</td>\n",
       "      <td>Fairview Park</td>\n",
       "      <td>OH</td>\n",
       "      <td>44126</td>\n",
       "      <td>41.440825</td>\n",
       "      <td>-81.854097</td>\n",
       "      <td>4.5</td>\n",
       "      <td>8</td>\n",
       "      <td>1</td>\n",
       "      <td>{'ByAppointmentOnly': 'False', 'BusinessAccept...</td>\n",
       "      <td>Beauty &amp; Spas, Nail Salons, Day Spas, Massage</td>\n",
       "      <td>{'Tuesday': '9:0-21:0', 'Wednesday': '9:0-21:0...</td>\n",
       "      <td>3</td>\n",
       "    </tr>\n",
       "  </tbody>\n",
       "</table>\n",
       "</div>"
      ],
      "text/plain": [
       "              business_id                             name  \\\n",
       "0  1SWheh84yJXfytovILXOAQ       Arizona Biltmore Golf Club   \n",
       "1  QXAEGFB4oINsVuTFxEYKFQ       Emerald Chinese Restaurant   \n",
       "2  gnKjwL_1w79qoiV3IC_xQQ      Musashi Japanese Restaurant   \n",
       "3  xvX2CttrVhyG2z1dFg_0xw  Farmers Insurance - Paul Lorenz   \n",
       "4  HhyxOkGAM07SRYtlQ4wMFQ              Queen City Plumbing   \n",
       "5  68dUKd8_8liJ7in4aWOSEA                    The UPS Store   \n",
       "6  5JucpCfHZltJh5r1JabjDg                 Edgeworxx Studio   \n",
       "7  gbQN7vr_caG_A1ugSmGhWg                        Supercuts   \n",
       "8  Y6iyemLX_oylRpnr38vgMA          Vita Bella Fine Day Spa   \n",
       "9  4GBVPIYRvzGh4K4TkRQ_rw              Options Salon & Spa   \n",
       "\n",
       "                                             address           city state  \\\n",
       "0                        2818 E Camino Acequia Drive        Phoenix    AZ   \n",
       "1                               30 Eglinton Avenue W    Mississauga    ON   \n",
       "2                          10110 Johnston Rd, Ste 15      Charlotte    NC   \n",
       "3                      15655 W Roosevelt St, Ste 237       Goodyear    AZ   \n",
       "4                     4209 Stuart Andrew Blvd, Ste F      Charlotte    NC   \n",
       "5  Credit Valley Town Plaza, F2 - 6045 Creditview Rd    Mississauga    ON   \n",
       "6                   20 Douglas Woods Drive Southeast        Calgary    AB   \n",
       "7               4545 E Tropicana Rd Ste 8, Tropicana      Las Vegas    NV   \n",
       "8                              5940 W Union Hills Dr       Glendale    AZ   \n",
       "9                                    21689 Lorain Rd  Fairview Park    OH   \n",
       "\n",
       "  postal_code   latitude   longitude  stars  review_count  is_open  \\\n",
       "0       85016  33.522143 -112.018481    3.0             5        0   \n",
       "1     L5R 3E7  43.605499  -79.652289    2.5           128        1   \n",
       "2       28210  35.092564  -80.859132    4.0           170        1   \n",
       "3       85338  33.455613 -112.395596    5.0             3        1   \n",
       "4       28217  35.190012  -80.887223    4.0             4        1   \n",
       "5     L5V 0B1  43.599475  -79.711584    2.5             3        1   \n",
       "6     T2Z 1K4  50.943646 -114.001828    3.5             7        1   \n",
       "7       89121  36.099872 -115.074574    3.5             3        1   \n",
       "8       85308  33.654815 -112.188568    5.0             8        0   \n",
       "9       44126  41.440825  -81.854097    4.5             8        1   \n",
       "\n",
       "                                          attributes  \\\n",
       "0                           {'GoodForKids': 'False'}   \n",
       "1  {'RestaurantsReservations': 'True', 'GoodForMe...   \n",
       "2  {'GoodForKids': 'True', 'NoiseLevel': 'u'avera...   \n",
       "3                                               None   \n",
       "4  {'BusinessAcceptsBitcoin': 'False', 'ByAppoint...   \n",
       "5  {'BusinessParking': '{'garage': False, 'street...   \n",
       "6  {'RestaurantsPriceRange2': '2', 'BusinessParki...   \n",
       "7  {'RestaurantsPriceRange2': '3', 'GoodForKids':...   \n",
       "8  {'RestaurantsPriceRange2': '2', 'ByAppointment...   \n",
       "9  {'ByAppointmentOnly': 'False', 'BusinessAccept...   \n",
       "\n",
       "                                          categories  \\\n",
       "0                                  Golf, Active Life   \n",
       "1  Specialty Food, Restaurants, Dim Sum, Imported...   \n",
       "2                  Sushi Bars, Restaurants, Japanese   \n",
       "3                      Insurance, Financial Services   \n",
       "4  Plumbing, Shopping, Local Services, Home Servi...   \n",
       "5  Shipping Centers, Couriers & Delivery Services...   \n",
       "6                         Beauty & Spas, Hair Salons   \n",
       "7  Hair Salons, Hair Stylists, Barbers, Men's Hai...   \n",
       "8               Nail Salons, Beauty & Spas, Day Spas   \n",
       "9      Beauty & Spas, Nail Salons, Day Spas, Massage   \n",
       "\n",
       "                                               hours  tip_count  \n",
       "0                                               None          1  \n",
       "1  {'Monday': '9:0-0:0', 'Tuesday': '9:0-0:0', 'W...         22  \n",
       "2  {'Monday': '17:30-21:30', 'Wednesday': '17:30-...         37  \n",
       "3  {'Monday': '8:0-17:0', 'Tuesday': '8:0-17:0', ...          0  \n",
       "4  {'Monday': '7:0-23:0', 'Tuesday': '7:0-23:0', ...          0  \n",
       "5  {'Monday': '9:0-19:0', 'Tuesday': '9:0-20:0', ...          1  \n",
       "6                                               None          1  \n",
       "7  {'Monday': '10:0-19:0', 'Tuesday': '10:0-19:0'...          0  \n",
       "8  {'Tuesday': '12:0-18:0', 'Wednesday': '10:0-18...          2  \n",
       "9  {'Tuesday': '9:0-21:0', 'Wednesday': '9:0-21:0...          3  "
      ]
     },
     "execution_count": 50,
     "metadata": {},
     "output_type": "execute_result"
    }
   ],
   "source": [
    "business_df.head(10)"
   ]
  },
  {
   "cell_type": "code",
   "execution_count": 174,
   "metadata": {},
   "outputs": [
    {
     "data": {
      "image/png": "[encoded data removed]",
      "text/plain": [
       "<Figure size 648x432 with 1 Axes>"
      ]
     },
     "metadata": {
      "needs_background": "light"
     },
     "output_type": "display_data"
    }
   ],
   "source": [
    "open_reviews = business_df[business_df['is_open'] == 1]['review_count'].dropna()\n",
    "closed_reviews = business_df[business_df['is_open'] == 0]['review_count'].dropna()\n",
    "\n",
    "# Create a figure instance\n",
    "fig = plt.figure(1, figsize=(9, 6))\n",
    "\n",
    "# Create an axes instance\n",
    "ax = fig.add_subplot(111)\n",
    "ax.set_xticklabels(['Open', 'Closed'])\n",
    "\n",
    "data_to_plot = [open_reviews, closed_reviews]\n",
    "bp = ax.boxplot(data_to_plot)\n",
    "plt.ylabel('Reviews')\n",
    "plt.xlabel('Status')\n",
    "plt.show()"
   ]
  },
  {
   "cell_type": "code",
   "execution_count": 176,
   "metadata": {},
   "outputs": [
    {
     "data": {
      "image/png": "[encoded data removed]",
      "text/plain": [
       "<Figure size 648x432 with 1 Axes>"
      ]
     },
     "metadata": {
      "needs_background": "light"
     },
     "output_type": "display_data"
    }
   ],
   "source": [
    "open_tips = business_df[business_df['is_open'] == 1]['tip_count'].dropna()\n",
    "closed_tips = business_df[business_df['is_open'] == 0]['tip_count'].dropna()\n",
    "\n",
    "# Create a figure instance\n",
    "fig = plt.figure(1, figsize=(9, 6))\n",
    "\n",
    "# Create an axes instance\n",
    "ax = fig.add_subplot(111)\n",
    "ax.set_xticklabels(['Open', 'Closed'])\n",
    "\n",
    "data_to_plot = [open_tips, closed_tips]\n",
    "bp = ax.boxplot(data_to_plot)\n",
    "plt.yscale('log')\n",
    "plt.ylabel('Number of Tips for a Single Business')\n",
    "plt.xlabel('Status')\n",
    "plt.show()"
   ]
  },
  {
   "cell_type": "code",
   "execution_count": 179,
   "metadata": {},
   "outputs": [
    {
     "data": {
      "image/png": "[encoded data removed]",
      "text/plain": [
       "<Figure size 648x432 with 1 Axes>"
      ]
     },
     "metadata": {
      "needs_background": "light"
     },
     "output_type": "display_data"
    }
   ],
   "source": [
    "open_reviews = business_df[business_df['is_open'] == 1]['review_count'].dropna()\n",
    "closed_reviews = business_df[business_df['is_open'] == 0]['review_count'].dropna()\n",
    "\n",
    "# Create a figure instance\n",
    "fig = plt.figure(1, figsize=(9, 6))\n",
    "\n",
    "# Create an axes instance\n",
    "ax = fig.add_subplot(111)\n",
    "ax.set_xticklabels(['Open', 'Closed'])\n",
    "\n",
    "data_to_plot = [open_reviews, closed_reviews]\n",
    "bp = ax.boxplot(data_to_plot)\n",
    "plt.yscale('log')\n",
    "plt.ylabel('Number of Reviews for a Single Business')\n",
    "plt.xlabel('Status')\n",
    "plt.show()"
   ]
  },
  {
   "cell_type": "code",
   "execution_count": 63,
   "metadata": {},
   "outputs": [],
   "source": [
    "business_names = {}\n",
    "\n",
    "for index, tip in business_df.iterrows():\n",
    "    business_name = tip['name']\n",
    "    if business_name in business_names:\n",
    "        business_names[business_name] += 1\n",
    "    else:\n",
    "        business_names[business_name] = 1"
   ]
  },
  {
   "cell_type": "code",
   "execution_count": 64,
   "metadata": {},
   "outputs": [
    {
     "name": "stdout",
     "output_type": "stream",
     "text": [
      "<class 'pandas.core.frame.DataFrame'>\n",
      "RangeIndex: 192609 entries, 0 to 192608\n",
      "Data columns (total 16 columns):\n",
      " #   Column        Non-Null Count   Dtype  \n",
      "---  ------        --------------   -----  \n",
      " 0   business_id   192609 non-null  object \n",
      " 1   name          192609 non-null  object \n",
      " 2   address       192609 non-null  object \n",
      " 3   city          192609 non-null  object \n",
      " 4   state         192609 non-null  object \n",
      " 5   postal_code   192609 non-null  object \n",
      " 6   latitude      192609 non-null  float64\n",
      " 7   longitude     192609 non-null  float64\n",
      " 8   stars         192609 non-null  float64\n",
      " 9   review_count  192609 non-null  int64  \n",
      " 10  is_open       192609 non-null  int64  \n",
      " 11  attributes    163773 non-null  object \n",
      " 12  categories    192127 non-null  object \n",
      " 13  hours         147779 non-null  object \n",
      " 14  tip_count     192609 non-null  int64  \n",
      " 15  chain         192609 non-null  bool   \n",
      "dtypes: bool(1), float64(3), int64(3), object(9)\n",
      "memory usage: 22.2+ MB\n"
     ]
    }
   ],
   "source": [
    "business_df['chain'] = False\n",
    "business_df.info()\n",
    "\n",
    "for index, business in business_df.iterrows():\n",
    "    business_name = business['name']\n",
    "    if business_names[business_name] > 1:\n",
    "        business_df.at[index, 'chain'] = True"
   ]
  },
  {
   "cell_type": "code",
   "execution_count": 184,
   "metadata": {},
   "outputs": [
    {
     "data": {
      "image/png": "[encoded data removed]",
      "text/plain": [
       "<Figure size 432x288 with 1 Axes>"
      ]
     },
     "metadata": {
      "needs_background": "light"
     },
     "output_type": "display_data"
    }
   ],
   "source": [
    "num_chain = business_df['chain'].sum()\n",
    "num_notchain = business_df.shape[0] - num_chain\n",
    "\n",
    "open_chain = business_df[(business_df['chain'] == True) & (business_df['is_open'] == 1)].shape[0] / num_chain\n",
    "closed_chain = business_df[(business_df['chain'] == True) & (business_df['is_open'] == 0)].shape[0] / num_chain\n",
    "open_notchain = business_df[(business_df['chain'] == False) & (business_df['is_open'] == 1)].shape[0] / num_notchain\n",
    "closed_notchain = business_df[(business_df['chain'] == False) & (business_df['is_open'] == 0)].shape[0] / num_notchain\n",
    "\n",
    "# labels = ['open_chain', 'closed_chain', 'open_notchain', 'closed_notchain']\n",
    "labels = ['Chain', 'Not Chain']\n",
    "data = [closed_chain, closed_notchain]\n",
    "plt.bar(labels, data)\n",
    "plt.ylabel('Percent')\n",
    "plt.title('Percentage of Businesses Closed: Chain vs. Non-chain')\n",
    "plt.show()"
   ]
  },
  {
   "cell_type": "code",
   "execution_count": 166,
   "metadata": {},
   "outputs": [
    {
     "name": "stdout",
     "output_type": "stream",
     "text": [
      "Ttest_indResult(statistic=9.189674120256974, pvalue=4.00229660217817e-20)\n"
     ]
    }
   ],
   "source": [
    "# t-test for mean of 'is_open', chain vs. non-chain businesses\n",
    "chains = business_df[business_df['chain'] == True]['is_open'].tolist()\n",
    "not_chains = business_df[business_df['chain'] == False]['is_open'].tolist()\n",
    "\n",
    "print(stats.ttest_ind(chains, not_chains, equal_var=False))"
   ]
  },
  {
   "cell_type": "code",
   "execution_count": null,
   "metadata": {},
   "outputs": [],
   "source": []
  },
  {
   "cell_type": "code",
   "execution_count": null,
   "metadata": {},
   "outputs": [],
   "source": []
  },
  {
   "cell_type": "code",
   "execution_count": null,
   "metadata": {},
   "outputs": [],
   "source": []
  },
  {
   "cell_type": "code",
   "execution_count": null,
   "metadata": {},
   "outputs": [],
   "source": []
  },
  {
   "cell_type": "code",
   "execution_count": null,
   "metadata": {},
   "outputs": [],
   "source": []
  },
  {
   "cell_type": "code",
   "execution_count": null,
   "metadata": {},
   "outputs": [],
   "source": []
  },
  {
   "cell_type": "code",
   "execution_count": 182,
   "metadata": {},
   "outputs": [
    {
     "name": "stderr",
     "output_type": "stream",
     "text": [
      "/Users/David/opt/anaconda3/lib/python3.7/site-packages/ipykernel_launcher.py:41: SettingWithCopyWarning: \n",
      "A value is trying to be set on a copy of a slice from a DataFrame.\n",
      "Try using .loc[row_indexer,col_indexer] = value instead\n",
      "\n",
      "See the caveats in the documentation: https://pandas.pydata.org/pandas-docs/stable/user_guide/indexing.html#returning-a-view-versus-a-copy\n"
     ]
    },
    {
     "data": {
      "image/png": "[encoded data removed]",
      "text/plain": [
       "<Figure size 432x288 with 1 Axes>"
      ]
     },
     "metadata": {
      "needs_background": "light"
     },
     "output_type": "display_data"
    }
   ],
   "source": [
    "from math import sin, cos, sqrt, atan2, radians\n",
    "\n",
    "def get_distance(lat1, lon1, lat2, lon2):\n",
    "    # approximate radius of earth in km\n",
    "    R = 6373.0\n",
    "    lat1 = radians(lat1)\n",
    "    lon1 = radians(lon1)\n",
    "    lat2 = radians(lat2)\n",
    "    lon2 = radians(lon2)\n",
    "\n",
    "    dlon = lon2 - lon1\n",
    "    dlat = lat2 - lat1\n",
    "\n",
    "    a = sin(dlat / 2)**2 + cos(lat1) * cos(lat2) * sin(dlon / 2)**2\n",
    "    c = 2 * atan2(sqrt(a), sqrt(1 - a))\n",
    "    distance = R * c\n",
    "    return distance\n",
    "\n",
    "\n",
    "\n",
    "\n",
    "\n",
    "bus_loc = [[] for i in range(illinois_business.shape[0])]\n",
    "count = 0\n",
    "for index, row in illinois_business.iterrows():\n",
    "    bus_loc[count].append(row['business_id'])\n",
    "    bus_loc[count].append(row['latitude'])\n",
    "    bus_loc[count].append(row['longitude'])\n",
    "    count += 1\n",
    "    \n",
    "il_neighbors = [[] for i in range(len(bus_loc))]\n",
    "for i, biz1 in enumerate(bus_loc):\n",
    "    for j, biz2 in enumerate(bus_loc):\n",
    "        if i == j:\n",
    "            continue\n",
    "        distance = get_distance(biz1[1], biz1[2], biz2[1], biz2[2])\n",
    "        if distance < 0.3:\n",
    "            il_neighbors[i].append([biz2[0], distance])\n",
    "            \n",
    "\n",
    "illinois_business['neighbors'] = il_neighbors\n",
    "\n",
    "number_neighbors = [0 for i in range(len(il_neighbors))]\n",
    "\n",
    "for i, bzn in enumerate(il_neighbors):\n",
    "    number_neighbors[i] = len(bzn)\n",
    "\n",
    "plt.hist(number_neighbors, bins=10)\n",
    "plt.xlabel('Number Neighbors within 0.3km')\n",
    "plt.ylabel('Count')\n",
    "plt.title('Histogram of IL Restaurant Density')\n",
    "plt.show()"
   ]
  },
  {
   "cell_type": "code",
   "execution_count": null,
   "metadata": {},
   "outputs": [],
   "source": []
  },
  {
   "cell_type": "code",
   "execution_count": null,
   "metadata": {},
   "outputs": [],
   "source": []
  },
  {
   "cell_type": "code",
   "execution_count": null,
   "metadata": {},
   "outputs": [],
   "source": []
  },
  {
   "cell_type": "code",
   "execution_count": null,
   "metadata": {},
   "outputs": [],
   "source": []
  },
  {
   "cell_type": "code",
   "execution_count": null,
   "metadata": {},
   "outputs": [],
   "source": []
  },
  {
   "cell_type": "code",
   "execution_count": null,
   "metadata": {},
   "outputs": [],
   "source": []
  },
  {
   "cell_type": "code",
   "execution_count": null,
   "metadata": {},
   "outputs": [],
   "source": []
  },
  {
   "cell_type": "code",
   "execution_count": null,
   "metadata": {},
   "outputs": [],
   "source": []
  },
  {
   "cell_type": "code",
   "execution_count": null,
   "metadata": {},
   "outputs": [],
   "source": []
  },
  {
   "cell_type": "code",
   "execution_count": null,
   "metadata": {},
   "outputs": [],
   "source": []
  },
  {
   "cell_type": "code",
   "execution_count": null,
   "metadata": {},
   "outputs": [],
   "source": []
  }
 ],
 "metadata": {
  "kernelspec": {
   "display_name": "Python 3",
   "language": "python",
   "name": "python3"
  },
  "language_info": {
   "codemirror_mode": {
    "name": "ipython",
    "version": 3
   },
   "file_extension": ".py",
   "mimetype": "text/x-python",
   "name": "python",
   "nbconvert_exporter": "python",
   "pygments_lexer": "ipython3",
   "version": "3.7.4"
  }
 },
 "nbformat": 4,
 "nbformat_minor": 2
}
