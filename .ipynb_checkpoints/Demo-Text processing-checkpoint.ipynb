{
 "cells": [
  {
   "cell_type": "markdown",
   "metadata": {},
   "source": [
    "# Typo checking"
   ]
  },
  {
   "cell_type": "code",
   "execution_count": 1,
   "metadata": {},
   "outputs": [],
   "source": [
    "from textblob import TextBlob"
   ]
  },
  {
   "cell_type": "code",
   "execution_count": 2,
   "metadata": {},
   "outputs": [
    {
     "data": {
      "text/plain": [
       "TextBlob(\"this is a wrong sentence\")"
      ]
     },
     "execution_count": 2,
     "metadata": {},
     "output_type": "execute_result"
    }
   ],
   "source": [
    "text = TextBlob(\"this is a worng senence\")\n",
    "text.correct()"
   ]
  },
  {
   "cell_type": "code",
   "execution_count": 3,
   "metadata": {},
   "outputs": [
    {
     "data": {
      "text/plain": [
       "TextBlob(\"His is a wrong sentence\")"
      ]
     },
     "execution_count": 3,
     "metadata": {},
     "output_type": "execute_result"
    }
   ],
   "source": [
    "TextBlob(\"This is a worng senence\").correct()"
   ]
  },
  {
   "cell_type": "code",
   "execution_count": 4,
   "metadata": {},
   "outputs": [
    {
     "data": {
      "text/plain": [
       "[('apple', 0.8461538461538461), ('apples', 0.15384615384615385)]"
      ]
     },
     "execution_count": 4,
     "metadata": {},
     "output_type": "execute_result"
    }
   ],
   "source": [
    "from textblob import Word\n",
    "Word(\"applea\").spellcheck()"
   ]
  },
  {
   "cell_type": "code",
   "execution_count": 5,
   "metadata": {},
   "outputs": [
    {
     "data": {
      "text/plain": [
       "[('time', 0.889988358556461),\n",
       " ('notice', 0.0570430733410943),\n",
       " ('entire', 0.03667054714784633),\n",
       " ('online', 0.008731082654249126),\n",
       " ('intima', 0.005820721769499418),\n",
       " ('estime', 0.0011641443538998836),\n",
       " ('entice', 0.0005820721769499418)]"
      ]
     },
     "execution_count": 5,
     "metadata": {},
     "output_type": "execute_result"
    }
   ],
   "source": [
    "Word(\"ontime\").spellcheck()"
   ]
  },
  {
   "cell_type": "markdown",
   "metadata": {},
   "source": [
    "# POS tagging"
   ]
  },
  {
   "cell_type": "code",
   "execution_count": 6,
   "metadata": {},
   "outputs": [
    {
     "name": "stderr",
     "output_type": "stream",
     "text": [
      "[nltk_data] Downloading package punkt to /Users/David/nltk_data...\n",
      "[nltk_data]   Package punkt is already up-to-date!\n",
      "[nltk_data] Downloading package averaged_perceptron_tagger to\n",
      "[nltk_data]     /Users/David/nltk_data...\n",
      "[nltk_data]   Package averaged_perceptron_tagger is already up-to-\n",
      "[nltk_data]       date!\n"
     ]
    },
    {
     "data": {
      "text/plain": [
       "[('this', 'DT'),\n",
       " ('is', 'VBZ'),\n",
       " ('a', 'DT'),\n",
       " ('worng', 'JJ'),\n",
       " ('senence', 'NN')]"
      ]
     },
     "execution_count": 6,
     "metadata": {},
     "output_type": "execute_result"
    }
   ],
   "source": [
    "import ssl\n",
    "\n",
    "try:\n",
    "    _create_unverified_https_context = ssl._create_unverified_context\n",
    "except AttributeError:\n",
    "    pass\n",
    "else:\n",
    "    ssl._create_default_https_context = _create_unverified_https_context\n",
    "    \n",
    "import nltk\n",
    "nltk.download('punkt')\n",
    "nltk.download('averaged_perceptron_tagger')\n",
    "text.tags"
   ]
  },
  {
   "cell_type": "markdown",
   "metadata": {},
   "source": [
    "# Sensitivity Analysis"
   ]
  },
  {
   "cell_type": "code",
   "execution_count": 7,
   "metadata": {},
   "outputs": [
    {
     "data": {
      "text/plain": [
       "Sentiment(polarity=0.2, subjectivity=0.2)"
      ]
     },
     "execution_count": 7,
     "metadata": {},
     "output_type": "execute_result"
    }
   ],
   "source": [
    "TextBlob(\"I like it so much\").sentiment"
   ]
  },
  {
   "cell_type": "code",
   "execution_count": 8,
   "metadata": {},
   "outputs": [
    {
     "data": {
      "text/plain": [
       "Sentiment(polarity=0.3125, subjectivity=0.2)"
      ]
     },
     "execution_count": 8,
     "metadata": {},
     "output_type": "execute_result"
    }
   ],
   "source": [
    "TextBlob(\"I like it so much!!\").sentiment"
   ]
  },
  {
   "cell_type": "code",
   "execution_count": 9,
   "metadata": {},
   "outputs": [
    {
     "data": {
      "text/plain": [
       "Sentiment(polarity=1.0, subjectivity=0.3)"
      ]
     },
     "execution_count": 9,
     "metadata": {},
     "output_type": "execute_result"
    }
   ],
   "source": [
    "TextBlob(\"I wish you the best\").sentiment"
   ]
  },
  {
   "cell_type": "code",
   "execution_count": 10,
   "metadata": {},
   "outputs": [
    {
     "data": {
      "text/plain": [
       "Sentiment(polarity=0.65625, subjectivity=0.6)"
      ]
     },
     "execution_count": 10,
     "metadata": {},
     "output_type": "execute_result"
    }
   ],
   "source": [
    "TextBlob(\"I like it so much!! This is awesome\").sentiment"
   ]
  },
  {
   "cell_type": "code",
   "execution_count": 12,
   "metadata": {},
   "outputs": [],
   "source": [
    "import pandas as pd\n",
    "import json\n",
    "data=[]\n",
    "for l in open(\"tip.json\").readlines():\n",
    "    data.append(json.loads(l))\n",
    "df = pd.DataFrame.from_records(data[0:1000000])[['business_id', 'text','date']]"
   ]
  },
  {
   "cell_type": "code",
   "execution_count": 13,
   "metadata": {},
   "outputs": [
    {
     "data": {
      "text/html": [
       "<div>\n",
       "<style scoped>\n",
       "    .dataframe tbody tr th:only-of-type {\n",
       "        vertical-align: middle;\n",
       "    }\n",
       "\n",
       "    .dataframe tbody tr th {\n",
       "        vertical-align: top;\n",
       "    }\n",
       "\n",
       "    .dataframe thead th {\n",
       "        text-align: right;\n",
       "    }\n",
       "</style>\n",
       "<table border=\"1\" class=\"dataframe\">\n",
       "  <thead>\n",
       "    <tr style=\"text-align: right;\">\n",
       "      <th></th>\n",
       "      <th>business_id</th>\n",
       "      <th>text</th>\n",
       "      <th>date</th>\n",
       "    </tr>\n",
       "  </thead>\n",
       "  <tbody>\n",
       "    <tr>\n",
       "      <th>0</th>\n",
       "      <td>VaKXUpmWTTWDKbpJ3aQdMw</td>\n",
       "      <td>Great for watching games, ufc, and whatever el...</td>\n",
       "      <td>2014-03-27 03:51:24</td>\n",
       "    </tr>\n",
       "    <tr>\n",
       "      <th>1</th>\n",
       "      <td>OPiPeoJiv92rENwbq76orA</td>\n",
       "      <td>Happy Hour 2-4 daily with 1/2 price drinks and...</td>\n",
       "      <td>2013-05-25 06:00:56</td>\n",
       "    </tr>\n",
       "    <tr>\n",
       "      <th>2</th>\n",
       "      <td>5KheTjYPu1HcQzQFtm4_vw</td>\n",
       "      <td>Good chips and salsa. Loud at times. Good serv...</td>\n",
       "      <td>2011-12-26 01:46:17</td>\n",
       "    </tr>\n",
       "    <tr>\n",
       "      <th>3</th>\n",
       "      <td>TkoyGi8J7YFjA6SbaRzrxg</td>\n",
       "      <td>The setting and decoration here is amazing. Co...</td>\n",
       "      <td>2014-03-23 21:32:49</td>\n",
       "    </tr>\n",
       "    <tr>\n",
       "      <th>4</th>\n",
       "      <td>AkL6Ous6A1atZejfZXn1Bg</td>\n",
       "      <td>Molly is definately taking a picture with Sant...</td>\n",
       "      <td>2012-10-06 00:19:27</td>\n",
       "    </tr>\n",
       "    <tr>\n",
       "      <th>...</th>\n",
       "      <td>...</td>\n",
       "      <td>...</td>\n",
       "      <td>...</td>\n",
       "    </tr>\n",
       "    <tr>\n",
       "      <th>999995</th>\n",
       "      <td>ZKqbygpsDNOacLvoK2T2tQ</td>\n",
       "      <td>Great burger!</td>\n",
       "      <td>2013-03-04 01:01:42</td>\n",
       "    </tr>\n",
       "    <tr>\n",
       "      <th>999996</th>\n",
       "      <td>1EnACUiEn9RkK0YU5rvMfA</td>\n",
       "      <td>DONT fly this airline. Unless you enjoy fines ...</td>\n",
       "      <td>2015-01-05 00:47:03</td>\n",
       "    </tr>\n",
       "    <tr>\n",
       "      <th>999997</th>\n",
       "      <td>FoPkCFoyW1b_S8jLsKjcnQ</td>\n",
       "      <td>My favorite taco/burrito place in Las Vegas</td>\n",
       "      <td>2017-11-14 06:44:58</td>\n",
       "    </tr>\n",
       "    <tr>\n",
       "      <th>999998</th>\n",
       "      <td>fdkJsDiy27e4Ragp27MMhg</td>\n",
       "      <td>Uber sucks tip your driver's you cheap bastards</td>\n",
       "      <td>2015-12-18 13:19:02</td>\n",
       "    </tr>\n",
       "    <tr>\n",
       "      <th>999999</th>\n",
       "      <td>sNVGdeOPeitJ3OWUQBINzQ</td>\n",
       "      <td>Their red velvet pancakes are one of a kind!</td>\n",
       "      <td>2015-11-16 16:37:04</td>\n",
       "    </tr>\n",
       "  </tbody>\n",
       "</table>\n",
       "<p>1000000 rows × 3 columns</p>\n",
       "</div>"
      ],
      "text/plain": [
       "                   business_id  \\\n",
       "0       VaKXUpmWTTWDKbpJ3aQdMw   \n",
       "1       OPiPeoJiv92rENwbq76orA   \n",
       "2       5KheTjYPu1HcQzQFtm4_vw   \n",
       "3       TkoyGi8J7YFjA6SbaRzrxg   \n",
       "4       AkL6Ous6A1atZejfZXn1Bg   \n",
       "...                        ...   \n",
       "999995  ZKqbygpsDNOacLvoK2T2tQ   \n",
       "999996  1EnACUiEn9RkK0YU5rvMfA   \n",
       "999997  FoPkCFoyW1b_S8jLsKjcnQ   \n",
       "999998  fdkJsDiy27e4Ragp27MMhg   \n",
       "999999  sNVGdeOPeitJ3OWUQBINzQ   \n",
       "\n",
       "                                                     text                 date  \n",
       "0       Great for watching games, ufc, and whatever el...  2014-03-27 03:51:24  \n",
       "1       Happy Hour 2-4 daily with 1/2 price drinks and...  2013-05-25 06:00:56  \n",
       "2       Good chips and salsa. Loud at times. Good serv...  2011-12-26 01:46:17  \n",
       "3       The setting and decoration here is amazing. Co...  2014-03-23 21:32:49  \n",
       "4       Molly is definately taking a picture with Sant...  2012-10-06 00:19:27  \n",
       "...                                                   ...                  ...  \n",
       "999995                                      Great burger!  2013-03-04 01:01:42  \n",
       "999996  DONT fly this airline. Unless you enjoy fines ...  2015-01-05 00:47:03  \n",
       "999997        My favorite taco/burrito place in Las Vegas  2017-11-14 06:44:58  \n",
       "999998    Uber sucks tip your driver's you cheap bastards  2015-12-18 13:19:02  \n",
       "999999       Their red velvet pancakes are one of a kind!  2015-11-16 16:37:04  \n",
       "\n",
       "[1000000 rows x 3 columns]"
      ]
     },
     "execution_count": 13,
     "metadata": {},
     "output_type": "execute_result"
    }
   ],
   "source": [
    "df"
   ]
  },
  {
   "cell_type": "code",
   "execution_count": null,
   "metadata": {},
   "outputs": [],
   "source": [
    "df['sentiment'] = df[['text']].applymap(lambda x: TextBlob(x).sentiment.polarity)"
   ]
  },
  {
   "cell_type": "code",
   "execution_count": null,
   "metadata": {},
   "outputs": [],
   "source": [
    "df"
   ]
  },
  {
   "cell_type": "code",
   "execution_count": 15,
   "metadata": {},
   "outputs": [],
   "source": [
    "df['date'] = df[['date']].applymap(lambda x: x[0:7])#year-month\n",
    "GY = df.groupby('date').mean()"
   ]
  },
  {
   "cell_type": "code",
   "execution_count": 16,
   "metadata": {},
   "outputs": [
    {
     "data": {
      "text/plain": [
       "<matplotlib.axes._subplots.AxesSubplot at 0x11a7e8e90>"
      ]
     },
     "execution_count": 16,
     "metadata": {},
     "output_type": "execute_result"
    },
    {
     "data": {
      "image/png": "[encoded data removed]",
      "text/plain": [
       "<Figure size 432x288 with 1 Axes>"
      ]
     },
     "metadata": {
      "needs_background": "light"
     },
     "output_type": "display_data"
    }
   ],
   "source": [
    "GY.plot()"
   ]
  },
  {
   "cell_type": "code",
   "execution_count": 17,
   "metadata": {},
   "outputs": [],
   "source": [
    "df['month'] = df[['date']].applymap(lambda x: x[5:7])#only month\n",
    "GY2 = df.groupby('month').mean()"
   ]
  },
  {
   "cell_type": "code",
   "execution_count": 18,
   "metadata": {},
   "outputs": [
    {
     "data": {
      "text/plain": [
       "<matplotlib.axes._subplots.AxesSubplot at 0x12bc32310>"
      ]
     },
     "execution_count": 18,
     "metadata": {},
     "output_type": "execute_result"
    },
    {
     "data": {
      "image/png": "[encoded data removed]",
      "text/plain": [
       "<Figure size 432x288 with 1 Axes>"
      ]
     },
     "metadata": {
      "needs_background": "light"
     },
     "output_type": "display_data"
    }
   ],
   "source": [
    "GY2.plot()"
   ]
  },
  {
   "cell_type": "code",
   "execution_count": 20,
   "metadata": {},
   "outputs": [],
   "source": [
    "import pandas as pd\n",
    "import json\n",
    "data=[]\n",
    "\n",
    "for l in open(\"/Users/huiling/Downloads/yelp_dataset/business.json\").readlines():\n",
    "\tdata.append(json.loads(l))\n",
    "df2 = pd.DataFrame.from_records(data)[['business_id','stars']]"
   ]
  },
  {
   "cell_type": "code",
   "execution_count": 21,
   "metadata": {},
   "outputs": [
    {
     "name": "stdout",
     "output_type": "stream",
     "text": [
      "<class 'pandas.core.frame.DataFrame'>\n",
      "RangeIndex: 1000000 entries, 0 to 999999\n",
      "Data columns (total 5 columns):\n",
      "business_id    1000000 non-null object\n",
      "text           1000000 non-null object\n",
      "date           1000000 non-null object\n",
      "sentiment      1000000 non-null float64\n",
      "month          1000000 non-null object\n",
      "dtypes: float64(1), object(4)\n",
      "memory usage: 38.1+ MB\n"
     ]
    }
   ],
   "source": [
    "df.info()"
   ]
  },
  {
   "cell_type": "code",
   "execution_count": 22,
   "metadata": {},
   "outputs": [
    {
     "name": "stdout",
     "output_type": "stream",
     "text": [
      "<class 'pandas.core.frame.DataFrame'>\n",
      "RangeIndex: 192609 entries, 0 to 192608\n",
      "Data columns (total 2 columns):\n",
      "business_id    192609 non-null object\n",
      "stars          192609 non-null float64\n",
      "dtypes: float64(1), object(1)\n",
      "memory usage: 2.9+ MB\n"
     ]
    }
   ],
   "source": [
    "df2.info()"
   ]
  },
  {
   "cell_type": "code",
   "execution_count": 23,
   "metadata": {},
   "outputs": [],
   "source": [
    "merged = df.merge(df2)"
   ]
  },
  {
   "cell_type": "code",
   "execution_count": 24,
   "metadata": {},
   "outputs": [
    {
     "data": {
      "text/html": [
       "<div>\n",
       "<style scoped>\n",
       "    .dataframe tbody tr th:only-of-type {\n",
       "        vertical-align: middle;\n",
       "    }\n",
       "\n",
       "    .dataframe tbody tr th {\n",
       "        vertical-align: top;\n",
       "    }\n",
       "\n",
       "    .dataframe thead th {\n",
       "        text-align: right;\n",
       "    }\n",
       "</style>\n",
       "<table border=\"1\" class=\"dataframe\">\n",
       "  <thead>\n",
       "    <tr style=\"text-align: right;\">\n",
       "      <th></th>\n",
       "      <th>business_id</th>\n",
       "      <th>text</th>\n",
       "      <th>date</th>\n",
       "      <th>sentiment</th>\n",
       "      <th>month</th>\n",
       "      <th>stars</th>\n",
       "    </tr>\n",
       "  </thead>\n",
       "  <tbody>\n",
       "    <tr>\n",
       "      <td>0</td>\n",
       "      <td>VaKXUpmWTTWDKbpJ3aQdMw</td>\n",
       "      <td>Great for watching games, ufc, and whatever el...</td>\n",
       "      <td>2014-03</td>\n",
       "      <td>0.800000</td>\n",
       "      <td>03</td>\n",
       "      <td>3.5</td>\n",
       "    </tr>\n",
       "    <tr>\n",
       "      <td>1</td>\n",
       "      <td>VaKXUpmWTTWDKbpJ3aQdMw</td>\n",
       "      <td>Buffalo Wild Wing is inconsistent. The excelle...</td>\n",
       "      <td>2012-10</td>\n",
       "      <td>0.145833</td>\n",
       "      <td>10</td>\n",
       "      <td>3.5</td>\n",
       "    </tr>\n",
       "    <tr>\n",
       "      <td>2</td>\n",
       "      <td>VaKXUpmWTTWDKbpJ3aQdMw</td>\n",
       "      <td>Newly remodeled. Door has changed and seats ar...</td>\n",
       "      <td>2010-11</td>\n",
       "      <td>0.368182</td>\n",
       "      <td>11</td>\n",
       "      <td>3.5</td>\n",
       "    </tr>\n",
       "    <tr>\n",
       "      <td>3</td>\n",
       "      <td>VaKXUpmWTTWDKbpJ3aQdMw</td>\n",
       "      <td>Wings tuesday!</td>\n",
       "      <td>2010-11</td>\n",
       "      <td>0.000000</td>\n",
       "      <td>11</td>\n",
       "      <td>3.5</td>\n",
       "    </tr>\n",
       "    <tr>\n",
       "      <td>4</td>\n",
       "      <td>VaKXUpmWTTWDKbpJ3aQdMw</td>\n",
       "      <td>Mango Habanero burns so good</td>\n",
       "      <td>2011-10</td>\n",
       "      <td>0.700000</td>\n",
       "      <td>10</td>\n",
       "      <td>3.5</td>\n",
       "    </tr>\n",
       "    <tr>\n",
       "      <td>...</td>\n",
       "      <td>...</td>\n",
       "      <td>...</td>\n",
       "      <td>...</td>\n",
       "      <td>...</td>\n",
       "      <td>...</td>\n",
       "      <td>...</td>\n",
       "    </tr>\n",
       "    <tr>\n",
       "      <td>999995</td>\n",
       "      <td>tqAsp_Vnq-KdfTyLEFAbyw</td>\n",
       "      <td>This place so nice and clean,love my pedicure,...</td>\n",
       "      <td>2016-09</td>\n",
       "      <td>0.600000</td>\n",
       "      <td>09</td>\n",
       "      <td>4.0</td>\n",
       "    </tr>\n",
       "    <tr>\n",
       "      <td>999996</td>\n",
       "      <td>205IU_t4t0kzCfHN06fyKg</td>\n",
       "      <td>Cold room bring a sweater. And don't ask for t...</td>\n",
       "      <td>2011-01</td>\n",
       "      <td>-0.600000</td>\n",
       "      <td>01</td>\n",
       "      <td>4.0</td>\n",
       "    </tr>\n",
       "    <tr>\n",
       "      <td>999997</td>\n",
       "      <td>cCXe5HNzFYKzSAOPUny6Wg</td>\n",
       "      <td>Aaaaaaaaaaaa</td>\n",
       "      <td>2015-08</td>\n",
       "      <td>0.000000</td>\n",
       "      <td>08</td>\n",
       "      <td>3.5</td>\n",
       "    </tr>\n",
       "    <tr>\n",
       "      <td>999998</td>\n",
       "      <td>ZKqbygpsDNOacLvoK2T2tQ</td>\n",
       "      <td>Great burger!</td>\n",
       "      <td>2013-03</td>\n",
       "      <td>1.000000</td>\n",
       "      <td>03</td>\n",
       "      <td>4.0</td>\n",
       "    </tr>\n",
       "    <tr>\n",
       "      <td>999999</td>\n",
       "      <td>1EnACUiEn9RkK0YU5rvMfA</td>\n",
       "      <td>DONT fly this airline. Unless you enjoy fines ...</td>\n",
       "      <td>2015-01</td>\n",
       "      <td>0.300000</td>\n",
       "      <td>01</td>\n",
       "      <td>1.0</td>\n",
       "    </tr>\n",
       "  </tbody>\n",
       "</table>\n",
       "<p>1000000 rows × 6 columns</p>\n",
       "</div>"
      ],
      "text/plain": [
       "                   business_id  \\\n",
       "0       VaKXUpmWTTWDKbpJ3aQdMw   \n",
       "1       VaKXUpmWTTWDKbpJ3aQdMw   \n",
       "2       VaKXUpmWTTWDKbpJ3aQdMw   \n",
       "3       VaKXUpmWTTWDKbpJ3aQdMw   \n",
       "4       VaKXUpmWTTWDKbpJ3aQdMw   \n",
       "...                        ...   \n",
       "999995  tqAsp_Vnq-KdfTyLEFAbyw   \n",
       "999996  205IU_t4t0kzCfHN06fyKg   \n",
       "999997  cCXe5HNzFYKzSAOPUny6Wg   \n",
       "999998  ZKqbygpsDNOacLvoK2T2tQ   \n",
       "999999  1EnACUiEn9RkK0YU5rvMfA   \n",
       "\n",
       "                                                     text     date  sentiment  \\\n",
       "0       Great for watching games, ufc, and whatever el...  2014-03   0.800000   \n",
       "1       Buffalo Wild Wing is inconsistent. The excelle...  2012-10   0.145833   \n",
       "2       Newly remodeled. Door has changed and seats ar...  2010-11   0.368182   \n",
       "3                                          Wings tuesday!  2010-11   0.000000   \n",
       "4                            Mango Habanero burns so good  2011-10   0.700000   \n",
       "...                                                   ...      ...        ...   \n",
       "999995  This place so nice and clean,love my pedicure,...  2016-09   0.600000   \n",
       "999996  Cold room bring a sweater. And don't ask for t...  2011-01  -0.600000   \n",
       "999997                                       Aaaaaaaaaaaa  2015-08   0.000000   \n",
       "999998                                      Great burger!  2013-03   1.000000   \n",
       "999999  DONT fly this airline. Unless you enjoy fines ...  2015-01   0.300000   \n",
       "\n",
       "       month  stars  \n",
       "0         03    3.5  \n",
       "1         10    3.5  \n",
       "2         11    3.5  \n",
       "3         11    3.5  \n",
       "4         10    3.5  \n",
       "...      ...    ...  \n",
       "999995    09    4.0  \n",
       "999996    01    4.0  \n",
       "999997    08    3.5  \n",
       "999998    03    4.0  \n",
       "999999    01    1.0  \n",
       "\n",
       "[1000000 rows x 6 columns]"
      ]
     },
     "execution_count": 24,
     "metadata": {},
     "output_type": "execute_result"
    }
   ],
   "source": [
    "merged"
   ]
  },
  {
   "cell_type": "code",
   "execution_count": 25,
   "metadata": {},
   "outputs": [
    {
     "data": {
      "text/plain": [
       "<matplotlib.axes._subplots.AxesSubplot at 0x135f65950>"
      ]
     },
     "execution_count": 25,
     "metadata": {},
     "output_type": "execute_result"
    },
    {
     "data": {
      "image/png": "[encoded data removed]",
      "text/plain": [
       "<Figure size 432x288 with 1 Axes>"
      ]
     },
     "metadata": {
      "needs_background": "light"
     },
     "output_type": "display_data"
    }
   ],
   "source": [
    "merged.groupby('stars').mean().plot(style='+-')"
   ]
  },
  {
   "cell_type": "markdown",
   "metadata": {},
   "source": [
    "#### Can do more intersting things... Leave the fun to you!"
   ]
  },
  {
   "cell_type": "markdown",
   "metadata": {},
   "source": [
    "# NLTK"
   ]
  },
  {
   "cell_type": "code",
   "execution_count": 26,
   "metadata": {},
   "outputs": [
    {
     "name": "stderr",
     "output_type": "stream",
     "text": [
      "[nltk_data] Downloading package vader_lexicon to\n",
      "[nltk_data]     /Users/huiling/nltk_data...\n"
     ]
    }
   ],
   "source": [
    "import nltk\n",
    "nltk.download('vader_lexicon')\n",
    "from nltk.sentiment.vader import SentimentIntensityAnalyzer\n",
    "# Vader is trained using social network data, can be better for the project\n",
    "sid = SentimentIntensityAnalyzer()"
   ]
  },
  {
   "cell_type": "code",
   "execution_count": 27,
   "metadata": {},
   "outputs": [
    {
     "data": {
      "text/plain": [
       "{'neg': 0.0, 'neu': 0.41, 'pos': 0.59, 'compound': 0.8011}"
      ]
     },
     "execution_count": 27,
     "metadata": {},
     "output_type": "execute_result"
    }
   ],
   "source": [
    "sid.polarity_scores(\"I like it so much!! This is awesome\") #compound [-1, 1] [neg, pos]"
   ]
  }
 ],
 "metadata": {
  "kernelspec": {
   "display_name": "Python 3",
   "language": "python",
   "name": "python3"
  },
  "language_info": {
   "codemirror_mode": {
    "name": "ipython",
    "version": 3
   },
   "file_extension": ".py",
   "mimetype": "text/x-python",
   "name": "python",
   "nbconvert_exporter": "python",
   "pygments_lexer": "ipython3",
   "version": "3.7.4"
  }
 },
 "nbformat": 4,
 "nbformat_minor": 4
}
