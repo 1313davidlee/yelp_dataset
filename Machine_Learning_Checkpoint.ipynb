{
 "cells": [
  {
   "cell_type": "code",
   "execution_count": 140,
   "metadata": {},
   "outputs": [],
   "source": [
    "from sklearn.linear_model import LinearRegression\n",
    "from sklearn.model_selection import cross_val_score\n",
    "from sklearn import ensemble\n",
    "from sklearn.model_selection import GridSearchCV\n",
    "from sklearn.linear_model import LogisticRegression\n",
    "from sklearn.metrics import roc_auc_score\n",
    "import numpy as np\n",
    "from sklearn import datasets\n",
    "import pandas as pd\n",
    "\n",
    "from math import sin, cos, sqrt, atan2, radians\n",
    "\n",
    "#sentiment packages\n",
    "from textblob import TextBlob"
   ]
  },
  {
   "cell_type": "code",
   "execution_count": 142,
   "metadata": {},
   "outputs": [],
   "source": [
    "# load business_df dataframe with ALL additional columns\n",
    "# run instead of cells below\n",
    "business_df = pd.read_json('business_df.json', lines=False)\n",
    "\n",
    "# for saving business_df to json file\n",
    "# business_df.to_json(r'business_df.json')"
   ]
  },
  {
   "cell_type": "code",
   "execution_count": null,
   "metadata": {},
   "outputs": [],
   "source": [
    "#load business data\n",
    "business_df = pd.read_json('business.json', lines=True)\n",
    "\n",
    "#load tip data\n",
    "tip_df = pd.read_json('tip.json', lines=True)"
   ]
  },
  {
   "cell_type": "code",
   "execution_count": null,
   "metadata": {},
   "outputs": [],
   "source": []
  },
  {
   "cell_type": "markdown",
   "metadata": {},
   "source": [
    "# Add Chain Column"
   ]
  },
  {
   "cell_type": "code",
   "execution_count": 143,
   "metadata": {},
   "outputs": [],
   "source": [
    "# Create a dictionary where key=business_name, value=count of that business\n",
    "business_names = {}\n",
    "for index, tip in business_df.iterrows():\n",
    "    business_name = tip['name']\n",
    "    if business_name in business_names:\n",
    "        business_names[business_name] += 1\n",
    "    else:\n",
    "        business_names[business_name] = 1\n",
    "\n",
    "# Add a Boolean column 'chain' to business_df\n",
    "# True if there are more than one business by the same name\n",
    "business_df['chain'] = False\n",
    "for index, business in business_df.iterrows():\n",
    "    business_name = business['name']\n",
    "    if business_names[business_name] > 1:\n",
    "        business_df.at[index, 'chain'] = True"
   ]
  },
  {
   "cell_type": "code",
   "execution_count": null,
   "metadata": {},
   "outputs": [],
   "source": []
  },
  {
   "cell_type": "markdown",
   "metadata": {},
   "source": [
    "# Add Tip_Count Column"
   ]
  },
  {
   "cell_type": "code",
   "execution_count": null,
   "metadata": {},
   "outputs": [],
   "source": [
    "# create a dictionary of tips matched to business IDs\n",
    "bzn_tips = {}\n",
    "for index, tip in tip_df.iterrows():\n",
    "    business_id = tip['business_id']\n",
    "    if business_id in bzn_tips:\n",
    "        bzn_tips[business_id] += 1\n",
    "    else:\n",
    "        bzn_tips[business_id] = 1\n",
    "\n",
    "# Add a 'tip_count' column to businesses_df dataframe\n",
    "business_df['tip_count'] = 0\n",
    "\n",
    "for index, business in business_df.iterrows():\n",
    "    business_id = business['business_id']\n",
    "    if business_id in bzn_tips:\n",
    "        business_df.at[index, 'tip_count'] = bzn_tips[business_id]"
   ]
  },
  {
   "cell_type": "code",
   "execution_count": null,
   "metadata": {},
   "outputs": [],
   "source": []
  },
  {
   "cell_type": "markdown",
   "metadata": {},
   "source": [
    "# Sentiment Analysis of Tips.json"
   ]
  },
  {
   "cell_type": "code",
   "execution_count": null,
   "metadata": {},
   "outputs": [],
   "source": [
    "#load tip sentiment data\n",
    "tips_sentiment_df = pd.read_json('tips_with_sentiment.json', orient='records')"
   ]
  },
  {
   "cell_type": "markdown",
   "metadata": {},
   "source": [
    "# Add mean_tip_sentiment column"
   ]
  },
  {
   "cell_type": "code",
   "execution_count": null,
   "metadata": {},
   "outputs": [],
   "source": [
    "# aggregate mean sentiments by 'business_id'\n",
    "mean_tips_sentiment = tips_sentiment_df.groupby('business_id').mean()[['sentiment']]\n",
    "\n",
    "# Join/Append 'sentiment' column to business_df\n",
    "business_df = business_df.join(mean_tips_sentiment, on='business_id')\n",
    "\n",
    "# Fill NaNs with mean_sentiment\n",
    "mean_sentiment = business_df['sentiment'].mean()\n",
    "business_df = business_df.fillna(value=mean_sentiment)\n",
    "business_df = business_df.rename(columns={\"sentiment\": \"mean_tip_sentiment\"})\n",
    "business_df.head()"
   ]
  },
  {
   "cell_type": "code",
   "execution_count": null,
   "metadata": {},
   "outputs": [],
   "source": []
  },
  {
   "cell_type": "markdown",
   "metadata": {},
   "source": [
    "# Add Neighbor Columns\n",
    "- Begin using illinois_business df instead of business_df"
   ]
  },
  {
   "cell_type": "code",
   "execution_count": 3,
   "metadata": {},
   "outputs": [
    {
     "name": "stderr",
     "output_type": "stream",
     "text": [
      "/Users/David/opt/anaconda3/lib/python3.7/site-packages/ipykernel_launcher.py:42: SettingWithCopyWarning: \n",
      "A value is trying to be set on a copy of a slice from a DataFrame.\n",
      "Try using .loc[row_indexer,col_indexer] = value instead\n",
      "\n",
      "See the caveats in the documentation: https://pandas.pydata.org/pandas-docs/stable/user_guide/indexing.html#returning-a-view-versus-a-copy\n",
      "/Users/David/opt/anaconda3/lib/python3.7/site-packages/ipykernel_launcher.py:43: SettingWithCopyWarning: \n",
      "A value is trying to be set on a copy of a slice from a DataFrame.\n",
      "Try using .loc[row_indexer,col_indexer] = value instead\n",
      "\n",
      "See the caveats in the documentation: https://pandas.pydata.org/pandas-docs/stable/user_guide/indexing.html#returning-a-view-versus-a-copy\n",
      "/Users/David/opt/anaconda3/lib/python3.7/site-packages/ipykernel_launcher.py:55: SettingWithCopyWarning: \n",
      "A value is trying to be set on a copy of a slice from a DataFrame.\n",
      "Try using .loc[row_indexer,col_indexer] = value instead\n",
      "\n",
      "See the caveats in the documentation: https://pandas.pydata.org/pandas-docs/stable/user_guide/indexing.html#returning-a-view-versus-a-copy\n",
      "/Users/David/opt/anaconda3/lib/python3.7/site-packages/ipykernel_launcher.py:56: SettingWithCopyWarning: \n",
      "A value is trying to be set on a copy of a slice from a DataFrame.\n",
      "Try using .loc[row_indexer,col_indexer] = value instead\n",
      "\n",
      "See the caveats in the documentation: https://pandas.pydata.org/pandas-docs/stable/user_guide/indexing.html#returning-a-view-versus-a-copy\n"
     ]
    }
   ],
   "source": [
    "def get_distance(lat1, lon1, lat2, lon2):\n",
    "    # approximate radius of earth in km\n",
    "    R = 6373.0\n",
    "    lat1 = radians(lat1)\n",
    "    lon1 = radians(lon1)\n",
    "    lat2 = radians(lat2)\n",
    "    lon2 = radians(lon2)\n",
    "\n",
    "    dlon = lon2 - lon1\n",
    "    dlat = lat2 - lat1\n",
    "\n",
    "    a = sin(dlat / 2)**2 + cos(lat1) * cos(lat2) * sin(dlon / 2)**2\n",
    "    c = 2 * atan2(sqrt(a), sqrt(1 - a))\n",
    "    distance = R * c\n",
    "    return distance\n",
    "\n",
    "\n",
    "illinois_business = business_df[business_df['state'] == 'IL']\n",
    "\n",
    "bus_loc = [[] for i in range(illinois_business.shape[0])]\n",
    "count = 0\n",
    "for index, row in illinois_business.iterrows():\n",
    "    bus_loc[count].append(row['business_id'])\n",
    "    bus_loc[count].append(row['latitude'])\n",
    "    bus_loc[count].append(row['longitude'])\n",
    "    count += 1\n",
    "    \n",
    "il_neighbors_close = [[] for i in range(len(bus_loc))]\n",
    "il_neighbors_far = [[] for i in range(len(bus_loc))]\n",
    "\n",
    "for i, biz1 in enumerate(bus_loc):\n",
    "    for j, biz2 in enumerate(bus_loc):\n",
    "        if i == j:\n",
    "            continue\n",
    "        distance = get_distance(biz1[1], biz1[2], biz2[1], biz2[2])\n",
    "        if distance < 0.3:\n",
    "            il_neighbors_far[i].append([biz2[0], distance])\n",
    "        if distance < 0.1:\n",
    "            il_neighbors_close[i].append([biz2[0], distance])\n",
    "            \n",
    "\n",
    "illinois_business['.1_km'] = il_neighbors_close\n",
    "illinois_business['.3_km'] = il_neighbors_far\n",
    "\n",
    "# number_neighbors_close = [0 for i in range(len(il_neighbors_close))]\n",
    "# number_neighbors_far = [0 for i in range(len(il_neighbors_far))]\n",
    "\n",
    "\n",
    "# for i, bzn in enumerate(il_neighbors_close):\n",
    "#     number_neighbors_close[i] = len(bzn)\n",
    "    \n",
    "# for i, bzn in enumerate(il_neighbors_far):\n",
    "#     number_neighbors_far[i] = len(bzn)\n",
    "\n",
    "illinois_business['.1_count'] = illinois_business['.1_km'].apply(lambda x: len(x))\n",
    "illinois_business['.3_count'] = illinois_business['.3_km'].apply(lambda x: len(x))"
   ]
  },
  {
   "cell_type": "code",
   "execution_count": null,
   "metadata": {},
   "outputs": [],
   "source": []
  },
  {
   "cell_type": "code",
   "execution_count": null,
   "metadata": {},
   "outputs": [],
   "source": []
  },
  {
   "cell_type": "markdown",
   "metadata": {},
   "source": [
    "# 1) Logistic Regression of Illinois Businesses"
   ]
  },
  {
   "cell_type": "code",
   "execution_count": 4,
   "metadata": {},
   "outputs": [
    {
     "data": {
      "text/html": [
       "<div>\n",
       "<style scoped>\n",
       "    .dataframe tbody tr th:only-of-type {\n",
       "        vertical-align: middle;\n",
       "    }\n",
       "\n",
       "    .dataframe tbody tr th {\n",
       "        vertical-align: top;\n",
       "    }\n",
       "\n",
       "    .dataframe thead th {\n",
       "        text-align: right;\n",
       "    }\n",
       "</style>\n",
       "<table border=\"1\" class=\"dataframe\">\n",
       "  <thead>\n",
       "    <tr style=\"text-align: right;\">\n",
       "      <th></th>\n",
       "      <th>stars</th>\n",
       "      <th>review_count</th>\n",
       "      <th>chain</th>\n",
       "      <th>tip_count</th>\n",
       "      <th>.1_count</th>\n",
       "      <th>.3_count</th>\n",
       "      <th>mean_tip_sentiment</th>\n",
       "    </tr>\n",
       "  </thead>\n",
       "  <tbody>\n",
       "    <tr>\n",
       "      <th>289</th>\n",
       "      <td>3.0</td>\n",
       "      <td>11</td>\n",
       "      <td>False</td>\n",
       "      <td>0</td>\n",
       "      <td>2</td>\n",
       "      <td>5</td>\n",
       "      <td>0.252695</td>\n",
       "    </tr>\n",
       "    <tr>\n",
       "      <th>330</th>\n",
       "      <td>2.5</td>\n",
       "      <td>3</td>\n",
       "      <td>False</td>\n",
       "      <td>0</td>\n",
       "      <td>8</td>\n",
       "      <td>30</td>\n",
       "      <td>0.252695</td>\n",
       "    </tr>\n",
       "    <tr>\n",
       "      <th>356</th>\n",
       "      <td>2.5</td>\n",
       "      <td>72</td>\n",
       "      <td>False</td>\n",
       "      <td>4</td>\n",
       "      <td>5</td>\n",
       "      <td>23</td>\n",
       "      <td>0.495312</td>\n",
       "    </tr>\n",
       "    <tr>\n",
       "      <th>361</th>\n",
       "      <td>2.5</td>\n",
       "      <td>12</td>\n",
       "      <td>True</td>\n",
       "      <td>2</td>\n",
       "      <td>1</td>\n",
       "      <td>50</td>\n",
       "      <td>-0.585000</td>\n",
       "    </tr>\n",
       "    <tr>\n",
       "      <th>368</th>\n",
       "      <td>4.0</td>\n",
       "      <td>5</td>\n",
       "      <td>False</td>\n",
       "      <td>1</td>\n",
       "      <td>15</td>\n",
       "      <td>30</td>\n",
       "      <td>0.494444</td>\n",
       "    </tr>\n",
       "  </tbody>\n",
       "</table>\n",
       "</div>"
      ],
      "text/plain": [
       "     stars  review_count  chain  tip_count  .1_count  .3_count  \\\n",
       "289    3.0            11  False          0         2         5   \n",
       "330    2.5             3  False          0         8        30   \n",
       "356    2.5            72  False          4         5        23   \n",
       "361    2.5            12   True          2         1        50   \n",
       "368    4.0             5  False          1        15        30   \n",
       "\n",
       "     mean_tip_sentiment  \n",
       "289            0.252695  \n",
       "330            0.252695  \n",
       "356            0.495312  \n",
       "361           -0.585000  \n",
       "368            0.494444  "
      ]
     },
     "execution_count": 4,
     "metadata": {},
     "output_type": "execute_result"
    }
   ],
   "source": [
    "il_LogReg_data = illinois_business[['stars', 'review_count', 'chain', 'tip_count', '.1_count', '.3_count', 'mean_tip_sentiment']]\n",
    "il_LogReg_targets = illinois_business['is_open']\n",
    "il_LogReg_data.head()"
   ]
  },
  {
   "cell_type": "code",
   "execution_count": 8,
   "metadata": {},
   "outputs": [
    {
     "name": "stdout",
     "output_type": "stream",
     "text": [
      "Logistic Regression Scores [0.79328165 0.79844961 0.80569948 0.79533679 0.78756477]\n",
      "Logistic Regression Mean Score 0.7960664604838602\n"
     ]
    },
    {
     "name": "stderr",
     "output_type": "stream",
     "text": [
      "/Users/David/opt/anaconda3/lib/python3.7/site-packages/sklearn/linear_model/logistic.py:432: FutureWarning: Default solver will be changed to 'lbfgs' in 0.22. Specify a solver to silence this warning.\n",
      "  FutureWarning)\n",
      "/Users/David/opt/anaconda3/lib/python3.7/site-packages/sklearn/linear_model/logistic.py:432: FutureWarning: Default solver will be changed to 'lbfgs' in 0.22. Specify a solver to silence this warning.\n",
      "  FutureWarning)\n",
      "/Users/David/opt/anaconda3/lib/python3.7/site-packages/sklearn/linear_model/logistic.py:432: FutureWarning: Default solver will be changed to 'lbfgs' in 0.22. Specify a solver to silence this warning.\n",
      "  FutureWarning)\n",
      "/Users/David/opt/anaconda3/lib/python3.7/site-packages/sklearn/linear_model/logistic.py:432: FutureWarning: Default solver will be changed to 'lbfgs' in 0.22. Specify a solver to silence this warning.\n",
      "  FutureWarning)\n",
      "/Users/David/opt/anaconda3/lib/python3.7/site-packages/sklearn/linear_model/logistic.py:432: FutureWarning: Default solver will be changed to 'lbfgs' in 0.22. Specify a solver to silence this warning.\n",
      "  FutureWarning)\n"
     ]
    }
   ],
   "source": [
    "clf = LogisticRegression()\n",
    "scores = cross_val_score(clf, il_LogReg_data, il_LogReg_targets, cv=5)\n",
    "print('Logistic Regression Scores', scores)\n",
    "print('Logistic Regression Mean Score', np.mean(scores))"
   ]
  },
  {
   "cell_type": "markdown",
   "metadata": {},
   "source": [
    "# Gradient Boosting Classifier of Illinois Businesses"
   ]
  },
  {
   "cell_type": "code",
   "execution_count": 10,
   "metadata": {},
   "outputs": [
    {
     "name": "stdout",
     "output_type": "stream",
     "text": [
      "Illinois Businesses Boosting Classifier Scores [0.80620155 0.79328165 0.77720207 0.79015544 0.79015544]\n",
      "Illinois Businesses Boosting Classifier Mean Score 0.7913992315004486\n"
     ]
    }
   ],
   "source": [
    "clf = ensemble.GradientBoostingClassifier()\n",
    "scores = cross_val_score(clf, il_LogReg_data, il_LogReg_targets, cv=5)\n",
    "print('Illinois Businesses Boosting Classifier Scores', scores)\n",
    "print('Illinois Businesses Boosting Classifier Mean Score', np.mean(scores))"
   ]
  },
  {
   "cell_type": "markdown",
   "metadata": {},
   "source": [
    "# Gradient Boosting Classifier Parameter Grid Search"
   ]
  },
  {
   "cell_type": "code",
   "execution_count": 44,
   "metadata": {},
   "outputs": [
    {
     "name": "stdout",
     "output_type": "stream",
     "text": [
      "Scores for parameter grid search:\n",
      "\n",
      "0.800 (+/-0.002) for {'learning_rate': 0.01, 'max_depth': 2, 'n_estimators': 50}\n",
      "0.800 (+/-0.002) for {'learning_rate': 0.01, 'max_depth': 2, 'n_estimators': 100}\n",
      "0.800 (+/-0.002) for {'learning_rate': 0.01, 'max_depth': 3, 'n_estimators': 50}\n",
      "0.800 (+/-0.002) for {'learning_rate': 0.01, 'max_depth': 3, 'n_estimators': 100}\n",
      "0.800 (+/-0.002) for {'learning_rate': 0.05, 'max_depth': 2, 'n_estimators': 50}\n",
      "0.801 (+/-0.005) for {'learning_rate': 0.05, 'max_depth': 2, 'n_estimators': 100}\n",
      "0.798 (+/-0.008) for {'learning_rate': 0.05, 'max_depth': 3, 'n_estimators': 50}\n",
      "0.798 (+/-0.012) for {'learning_rate': 0.05, 'max_depth': 3, 'n_estimators': 100}\n"
     ]
    }
   ],
   "source": [
    "tuned_parameters = [{'max_depth': [2, 3],\n",
    "                     'n_estimators': [50, 100],\n",
    "                     'learning_rate': [0.01, 0.05]}]\n",
    "clf = ensemble.GradientBoostingClassifier()\n",
    "clf = GridSearchCV(clf, tuned_parameters)\n",
    "clf.fit(il_LogReg_data, il_LogReg_targets)\n",
    "\n",
    "print(\"Scores for parameter grid search:\")\n",
    "print()\n",
    "means = clf.cv_results_['mean_test_score']\n",
    "stds = clf.cv_results_['std_test_score']\n",
    "for mean, std, params in zip(means, stds, clf.cv_results_['params']):\n",
    "    print(\"%0.3f (+/-%0.03f) for %r\"\n",
    "          % (mean, std * 2, params))"
   ]
  },
  {
   "cell_type": "markdown",
   "metadata": {},
   "source": [
    "# Logistic Regression of National Businesses, No Neighbors"
   ]
  },
  {
   "cell_type": "code",
   "execution_count": 128,
   "metadata": {},
   "outputs": [],
   "source": [
    "national_data = illinois_business[['stars', 'review_count', 'chain', 'tip_count', 'mean_tip_sentiment']]\n",
    "national_targets = illinois_business['is_open']"
   ]
  },
  {
   "cell_type": "code",
   "execution_count": 46,
   "metadata": {},
   "outputs": [
    {
     "name": "stdout",
     "output_type": "stream",
     "text": [
      "Logistic Regression Scores, National [0.79844961 0.79844961 0.80051813 0.80051813 0.80051813]\n"
     ]
    }
   ],
   "source": [
    "clf = LogisticRegression()\n",
    "scores = cross_val_score(clf, national_data, national_targets, cv=5)\n",
    "print('Logistic Regression Scores, National', scores)"
   ]
  },
  {
   "cell_type": "markdown",
   "metadata": {},
   "source": [
    "# Gradient Boosting Classifier of National Businesses, No Neighbors\n"
   ]
  },
  {
   "cell_type": "code",
   "execution_count": 47,
   "metadata": {},
   "outputs": [
    {
     "name": "stdout",
     "output_type": "stream",
     "text": [
      "National Business Boosting Classifier Scores [0.79586563 0.7881137  0.79274611 0.79015544 0.80051813]\n"
     ]
    }
   ],
   "source": [
    "clf = ensemble.GradientBoostingClassifier()\n",
    "scores = cross_val_score(clf, national_data, national_targets, cv=5)\n",
    "print('National Business Boosting Classifier Scores', scores)"
   ]
  },
  {
   "cell_type": "code",
   "execution_count": null,
   "metadata": {},
   "outputs": [],
   "source": []
  },
  {
   "cell_type": "markdown",
   "metadata": {},
   "source": [
    "# Create Neighbor Data for national set"
   ]
  },
  {
   "cell_type": "code",
   "execution_count": null,
   "metadata": {},
   "outputs": [],
   "source": []
  },
  {
   "cell_type": "code",
   "execution_count": 53,
   "metadata": {},
   "outputs": [],
   "source": [
    "state_dict = {}\n",
    "for index, row in business_df.iterrows():\n",
    "    state = row['state']\n",
    "    if row['state'] in state_dict:\n",
    "        state_dict[state] += 1\n",
    "    else:\n",
    "        state_dict[state] = 1\n",
    "        "
   ]
  },
  {
   "cell_type": "code",
   "execution_count": 55,
   "metadata": {},
   "outputs": [
    {
     "name": "stdout",
     "output_type": "stream",
     "text": [
      "{'AZ': 56686, 'ON': 33412, 'NC': 14720, 'AB': 8012, 'NV': 36312, 'OH': 14697, 'PA': 11216, 'QC': 9219, 'WI': 5154, 'IL': 1932, 'NY': 22, 'SC': 1162, 'TX': 6, 'UT': 1, 'NM': 1, 'FL': 4, 'CA': 19, 'VA': 2, 'BAS': 1, 'NE': 2, 'AK': 2, 'XGM': 4, 'WA': 3, 'XWY': 2, 'CON': 1, 'BC': 1, 'GA': 2, 'VT': 2, 'CT': 3, 'AL': 3, 'DUR': 1, 'TN': 1, 'NJ': 1, 'AR': 1, 'XGL': 1, 'DOW': 1}\n"
     ]
    }
   ],
   "source": [
    "print(state_dict)"
   ]
  },
  {
   "cell_type": "code",
   "execution_count": 57,
   "metadata": {},
   "outputs": [],
   "source": [
    "large_states = [\"IL\", 'PA', 'AZ', 'ON', 'NC', 'AB', 'NV', 'OH', \"QC\", \"WI\", \"SC\"]\n",
    "large_state_df = business_df[business_df.state.isin(large_states)]"
   ]
  },
  {
   "cell_type": "code",
   "execution_count": 110,
   "metadata": {},
   "outputs": [],
   "source": [
    "completed_distance_df = pd.DataFrame()"
   ]
  },
  {
   "cell_type": "code",
   "execution_count": 112,
   "metadata": {},
   "outputs": [
    {
     "name": "stdout",
     "output_type": "stream",
     "text": [
      "IL 0\n",
      "IL 1000\n"
     ]
    },
    {
     "name": "stderr",
     "output_type": "stream",
     "text": [
      "/home/david/.local/lib/python3.6/site-packages/ipykernel_launcher.py:30: SettingWithCopyWarning: \n",
      "A value is trying to be set on a copy of a slice from a DataFrame.\n",
      "Try using .loc[row_indexer,col_indexer] = value instead\n",
      "\n",
      "See the caveats in the documentation: https://pandas.pydata.org/pandas-docs/stable/user_guide/indexing.html#returning-a-view-versus-a-copy\n",
      "/home/david/.local/lib/python3.6/site-packages/ipykernel_launcher.py:31: SettingWithCopyWarning: \n",
      "A value is trying to be set on a copy of a slice from a DataFrame.\n",
      "Try using .loc[row_indexer,col_indexer] = value instead\n",
      "\n",
      "See the caveats in the documentation: https://pandas.pydata.org/pandas-docs/stable/user_guide/indexing.html#returning-a-view-versus-a-copy\n"
     ]
    },
    {
     "name": "stdout",
     "output_type": "stream",
     "text": [
      "PA 0\n",
      "PA 1000\n",
      "PA 2000\n",
      "PA 3000\n",
      "PA 4000\n",
      "PA 5000\n",
      "PA 6000\n",
      "PA 7000\n",
      "PA 8000\n",
      "PA 9000\n",
      "PA 10000\n",
      "PA 11000\n",
      "NC 0\n",
      "NC 1000\n",
      "NC 2000\n",
      "NC 3000\n",
      "NC 4000\n",
      "NC 5000\n",
      "NC 6000\n",
      "NC 7000\n",
      "NC 8000\n",
      "NC 9000\n",
      "NC 10000\n",
      "NC 11000\n",
      "NC 12000\n",
      "NC 13000\n",
      "NC 14000\n",
      "AB 0\n",
      "AB 1000\n",
      "AB 2000\n",
      "AB 3000\n",
      "AB 4000\n",
      "AB 5000\n",
      "AB 6000\n",
      "AB 7000\n",
      "AB 8000\n",
      "OH 0\n",
      "OH 1000\n",
      "OH 2000\n",
      "OH 3000\n",
      "OH 4000\n",
      "OH 5000\n",
      "OH 6000\n",
      "OH 7000\n",
      "OH 8000\n",
      "OH 9000\n",
      "OH 10000\n",
      "OH 11000\n",
      "OH 12000\n",
      "OH 13000\n",
      "OH 14000\n",
      "QC 0\n",
      "QC 1000\n",
      "QC 2000\n",
      "QC 3000\n",
      "QC 4000\n",
      "QC 5000\n",
      "QC 6000\n",
      "QC 7000\n",
      "QC 8000\n",
      "QC 9000\n",
      "WI 0\n",
      "WI 1000\n",
      "WI 2000\n",
      "WI 3000\n",
      "WI 4000\n",
      "WI 5000\n",
      "SC 0\n",
      "SC 1000\n"
     ]
    }
   ],
   "source": [
    "for state in large_states:\n",
    "#for i in [1]:\n",
    "    current_state_df = large_state_df[large_state_df.state == state]\n",
    "    if current_state_df.shape[0] < 15000:\n",
    "        bus_loc = [[] for i in range(current_state_df.shape[0])]\n",
    "        count = 0\n",
    "        for index, row in current_state_df.iterrows():\n",
    "            bus_loc[count].append(row['business_id'])\n",
    "            bus_loc[count].append(row['latitude'])\n",
    "            bus_loc[count].append(row['longitude'])\n",
    "            count += 1\n",
    "        \n",
    "        #initialize empty neighbor dict\n",
    "        current_neighbors_close = [[] for i in range(len(bus_loc))]\n",
    "        current_neighbors_far = [[] for i in range(len(bus_loc))]\n",
    "    \n",
    "        for i, biz1 in enumerate(bus_loc):\n",
    "            if i % 1000 == 0:\n",
    "                print(state, i)\n",
    "                \n",
    "            for j, biz2 in enumerate(bus_loc):\n",
    "                if i == j:\n",
    "                    continue\n",
    "                distance = get_distance(biz1[1], biz1[2], biz2[1], biz2[2])\n",
    "                if distance < 0.3:\n",
    "                    current_neighbors_far[i].append([biz2[0], distance])\n",
    "                if distance < 0.1:\n",
    "                    current_neighbors_close[i].append([biz2[0], distance])\n",
    "                    \n",
    "        current_state_df['.1_km'] = current_neighbors_close\n",
    "        current_state_df['.3_km'] = current_neighbors_far\n",
    "        \n",
    "        \n",
    "        completed_distance_df = completed_distance_df.append(current_state_df, ignore_index = True)\n",
    "        current_state_df = pd.DataFrame()"
   ]
  },
  {
   "cell_type": "code",
   "execution_count": 129,
   "metadata": {},
   "outputs": [],
   "source": [
    "completed_distance_df['.1_count'] = completed_distance_df['.1_km'].apply(lambda x: len(x))\n",
    "completed_distance_df['.3_count'] = completed_distance_df['.3_km'].apply(lambda x: len(x))"
   ]
  },
  {
   "cell_type": "markdown",
   "metadata": {},
   "source": [
    "# Logistic Regression of National Businesses, With Neighbors"
   ]
  },
  {
   "cell_type": "code",
   "execution_count": 134,
   "metadata": {},
   "outputs": [],
   "source": [
    "national_neighbor_data = completed_distance_df[['stars', 'review_count', 'chain', 'tip_count', 'mean_tip_sentiment', '.1_count', '.3_count']]\n",
    "national_neighbor_targets = completed_distance_df['is_open']\n"
   ]
  },
  {
   "cell_type": "code",
   "execution_count": 139,
   "metadata": {},
   "outputs": [
    {
     "name": "stdout",
     "output_type": "stream",
     "text": [
      "Logistic Regression Scores, National with neighbors [0.83581023 0.83165416 0.83586995 0.83629868 0.83479814]\n"
     ]
    }
   ],
   "source": [
    "clf = LogisticRegression()\n",
    "scores = cross_val_score(clf, national_neighbor_data, national_neighbor_targets, cv=5)\n",
    "print('Logistic Regression Scores, National with neighbors', scores)"
   ]
  },
  {
   "cell_type": "markdown",
   "metadata": {},
   "source": [
    "# Logistic Regression of National Businesses, With Neighbors"
   ]
  },
  {
   "cell_type": "code",
   "execution_count": 137,
   "metadata": {},
   "outputs": [
    {
     "name": "stdout",
     "output_type": "stream",
     "text": [
      "National Business Boosting Classifier Scores [0.83538154 0.83872812 0.83744194 0.83737049 0.83536977]\n"
     ]
    }
   ],
   "source": [
    "clf = ensemble.GradientBoostingClassifier()\n",
    "scores = cross_val_score(clf, national_neighbor_data, national_neighbor_targets, cv=5)\n",
    "print('National Business Boosting Classifier Scores', scores)"
   ]
  },
  {
   "cell_type": "markdown",
   "metadata": {},
   "source": [
    "# Gradient Boosting Classifier Parameter Grid Search, national data with neighbors"
   ]
  },
  {
   "cell_type": "code",
   "execution_count": 138,
   "metadata": {},
   "outputs": [
    {
     "name": "stdout",
     "output_type": "stream",
     "text": [
      "Scores for parameter grid search:\n",
      "\n",
      "0.837 (+/-0.000) for {'learning_rate': 0.01, 'max_depth': 2, 'n_estimators': 50}\n",
      "0.837 (+/-0.000) for {'learning_rate': 0.01, 'max_depth': 2, 'n_estimators': 100}\n",
      "0.837 (+/-0.000) for {'learning_rate': 0.01, 'max_depth': 3, 'n_estimators': 50}\n",
      "0.837 (+/-0.000) for {'learning_rate': 0.01, 'max_depth': 3, 'n_estimators': 100}\n",
      "0.837 (+/-0.000) for {'learning_rate': 0.05, 'max_depth': 2, 'n_estimators': 50}\n",
      "0.837 (+/-0.000) for {'learning_rate': 0.05, 'max_depth': 2, 'n_estimators': 100}\n",
      "0.837 (+/-0.000) for {'learning_rate': 0.05, 'max_depth': 3, 'n_estimators': 50}\n",
      "0.837 (+/-0.000) for {'learning_rate': 0.05, 'max_depth': 3, 'n_estimators': 100}\n"
     ]
    }
   ],
   "source": [
    "tuned_parameters = [{'max_depth': [2, 3],\n",
    "                     'n_estimators': [50, 100],\n",
    "                     'learning_rate': [0.01, 0.05]}]\n",
    "clf = ensemble.GradientBoostingClassifier()\n",
    "clf = GridSearchCV(clf, tuned_parameters)\n",
    "clf.fit(national_neighbor_data, national_neighbor_targets)\n",
    "\n",
    "print(\"Scores for parameter grid search:\")\n",
    "print()\n",
    "means = clf.cv_results_['mean_test_score']\n",
    "stds = clf.cv_results_['std_test_score']\n",
    "for mean, std, params in zip(means, stds, clf.cv_results_['params']):\n",
    "    print(\"%0.3f (+/-%0.03f) for %r\"\n",
    "          % (mean, std * 2, params))\n"
   ]
  },
  {
   "cell_type": "code",
   "execution_count": null,
   "metadata": {},
   "outputs": [],
   "source": []
  }
 ],
 "metadata": {
  "kernelspec": {
   "display_name": "Python 3",
   "language": "python",
   "name": "python3"
  },
  "language_info": {
   "codemirror_mode": {
    "name": "ipython",
    "version": 3
   },
   "file_extension": ".py",
   "mimetype": "text/x-python",
   "name": "python",
   "nbconvert_exporter": "python",
   "pygments_lexer": "ipython3",
   "version": "3.6.10"
  }
 },
 "nbformat": 4,
 "nbformat_minor": 2
}
