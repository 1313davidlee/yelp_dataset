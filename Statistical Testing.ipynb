{
 "cells": [
  {
   "cell_type": "code",
   "execution_count": 1,
   "metadata": {},
   "outputs": [],
   "source": [
    "import json\n",
    "import pandas as pd\n",
    "import matplotlib.pyplot as plt\n",
    "import numpy as np\n",
    "from scipy import stats\n",
    "import pandas as pd\n",
    "import powerlaw"
   ]
  },
  {
   "cell_type": "markdown",
   "metadata": {},
   "source": [
    "Q1"
   ]
  },
  {
   "cell_type": "code",
   "execution_count": 5,
   "metadata": {},
   "outputs": [],
   "source": [
    "data = []\n",
    "for l in open(\"business.json\").readlines():\n",
    "    line = json.loads(l) #from json string to python dictionary\n",
    "    data.append(line)"
   ]
  },
  {
   "cell_type": "code",
   "execution_count": 6,
   "metadata": {},
   "outputs": [],
   "source": [
    "review_counts = [] \n",
    "for business in data:\n",
    "    review_counts.append(business['review_count'])"
   ]
  },
  {
   "cell_type": "code",
   "execution_count": 7,
   "metadata": {},
   "outputs": [
    {
     "data": {
      "image/png": "[encoded data removed]",
      "text/plain": [
       "<Figure size 432x288 with 1 Axes>"
      ]
     },
     "metadata": {
      "needs_background": "light"
     },
     "output_type": "display_data"
    },
    {
     "name": "stderr",
     "output_type": "stream",
     "text": [
      "Calculating best minimal value for power law fit\n",
      "/Users/David/opt/anaconda3/lib/python3.7/site-packages/powerlaw.py:700: RuntimeWarning: invalid value encountered in true_divide\n",
      "  (Theoretical_CDF * (1 - Theoretical_CDF))\n"
     ]
    },
    {
     "name": "stdout",
     "output_type": "stream",
     "text": [
      "AlphaL\\: 2.879181869906935\n"
     ]
    },
    {
     "name": "stderr",
     "output_type": "stream",
     "text": [
      "/Users/David/opt/anaconda3/lib/python3.7/site-packages/powerlaw.py:700: RuntimeWarning: divide by zero encountered in true_divide\n",
      "  (Theoretical_CDF * (1 - Theoretical_CDF))\n"
     ]
    }
   ],
   "source": [
    "log_review_counts = np.log(review_counts)\n",
    "plt.hist(log_review_counts, log=True, cumulative=False, histtype='bar', bins=400)\n",
    "plt.xlabel('Log Number of Reviews')\n",
    "plt.ylabel('Number of Businesses')\n",
    "plt.show()\n",
    "\n",
    "\n",
    "results = powerlaw.Fit(review_counts, discrete=True)\n",
    "print('AlphaL\\:', results.power_law.alpha)\n",
    "R, p = results.distribution_compare('power_law', 'lognormal')"
   ]
  },
  {
   "cell_type": "code",
   "execution_count": 8,
   "metadata": {},
   "outputs": [
    {
     "name": "stderr",
     "output_type": "stream",
     "text": [
      "/Users/David/opt/anaconda3/lib/python3.7/site-packages/ipykernel_launcher.py:1: MatplotlibDeprecationWarning: \n",
      "The 'normed' kwarg was deprecated in Matplotlib 2.1 and will be removed in 3.1. Use 'density' instead.\n",
      "  \"\"\"Entry point for launching an IPython kernel.\n"
     ]
    },
    {
     "data": {
      "image/png": "[encoded data removed]",
      "text/plain": [
       "<Figure size 432x288 with 1 Axes>"
      ]
     },
     "metadata": {
      "needs_background": "light"
     },
     "output_type": "display_data"
    }
   ],
   "source": [
    "plt.hist(log_review_counts, normed=True, cumulative=True, label='CDF', bins=500)\n",
    "plt.legend()\n",
    "plt.show()"
   ]
  },
  {
   "cell_type": "code",
   "execution_count": 9,
   "metadata": {},
   "outputs": [
    {
     "name": "stderr",
     "output_type": "stream",
     "text": [
      "/Users/David/opt/anaconda3/lib/python3.7/site-packages/ipykernel_launcher.py:2: VisibleDeprecationWarning: Passing `normed=True` on non-uniform bins has always been broken, and computes neither the probability density function nor the probability mass function. The result is only correct if the bins are uniform, when density=True will produce the same result anyway. The argument will be removed in a future version of numpy.\n",
      "  \n"
     ]
    },
    {
     "data": {
      "image/png": "[encoded data removed]",
      "text/plain": [
       "<Figure size 432x288 with 1 Axes>"
      ]
     },
     "metadata": {
      "needs_background": "light"
     },
     "output_type": "display_data"
    }
   ],
   "source": [
    "bins = 500\n",
    "histogram, bins = np.histogram(log_review_counts, bins=bins, normed=True)\n",
    "bin_centers = 0.5*(bins[1:] + bins[:-1])\n",
    "\n",
    "pdf = stats.norm.pdf(bin_centers)\n",
    "plt.plot(bin_centers, histogram, label=\"Log Review Counts\")\n",
    "plt.plot(bin_centers, pdf, label='PDF')\n",
    "plt.legend()\n",
    "plt.show()"
   ]
  },
  {
   "cell_type": "markdown",
   "metadata": {},
   "source": [
    "We concluded that the number of reviews per business is a power law distribution because the log(reviews) graph is almost a straight line. We also examined the PDF, CDF graphs.\n",
    "We calculated alpha=2.879181869906935."
   ]
  },
  {
   "cell_type": "markdown",
   "metadata": {},
   "source": [
    "Q2"
   ]
  },
  {
   "cell_type": "code",
   "execution_count": null,
   "metadata": {},
   "outputs": [],
   "source": [
    "business_df = pd.read_json (\"business.json\", lines=True)"
   ]
  },
  {
   "cell_type": "code",
   "execution_count": null,
   "metadata": {},
   "outputs": [],
   "source": [
    "IL_bzn = business_df[business_df['state'] == 'IL']\n",
    "SC_bzn = business_df[business_df['state'] == 'SC']"
   ]
  },
  {
   "cell_type": "code",
   "execution_count": null,
   "metadata": {},
   "outputs": [],
   "source": [
    "print(stats.ks_2samp(IL_bzn['review_count'].tolist(), SC_bzn['review_count'].tolist()))"
   ]
  },
  {
   "cell_type": "markdown",
   "metadata": {},
   "source": [
    "Steps:\n",
    "    1. Load business.json data\n",
    "    2. Create two arrays for only IL and SC businesses\n",
    "    3. Use scipy.stats.ks_2samp to execute KS test\n",
    "\n",
    "The pvalue of the KS test is 0.00045 therefore we can reject the null hypothesis and say that the distribution of review_counts for IL and SC are from different distributions."
   ]
  },
  {
   "cell_type": "markdown",
   "metadata": {},
   "source": [
    "Q3"
   ]
  },
  {
   "cell_type": "code",
   "execution_count": null,
   "metadata": {},
   "outputs": [],
   "source": [
    "IL_bzn = business_df[business_df['state'] == 'IL']\n",
    "AZ_bzn = business_df[business_df['state'] == 'AZ']"
   ]
  },
  {
   "cell_type": "code",
   "execution_count": null,
   "metadata": {},
   "outputs": [],
   "source": [
    "IL_mean = IL_bzn['review_count'].mean()\n",
    "AZ_mean = AZ_bzn['review_count'].mean()\n",
    "\n",
    "print(IL_mean)\n",
    "print(AZ_mean)\n",
    "\n",
    "stats.ttest_ind(IL_bzn['review_count'].tolist(), AZ_bzn['review_count'].tolist(), equal_var=False)"
   ]
  },
  {
   "cell_type": "markdown",
   "metadata": {},
   "source": [
    "The two sided t-test pvalue=2.2765973643715597e-39 which is less than 0.05 significance level therefore we can reject the null hypothesis and conclude the mean review_counts for IL and AZ are significantly different."
   ]
  },
  {
   "cell_type": "code",
   "execution_count": null,
   "metadata": {},
   "outputs": [],
   "source": [
    "ON_bzn = business_df[business_df['state'] == 'ON']\n",
    "ON_mean = ON_bzn['review_count'].mean()\n",
    "\n",
    "print(IL_mean)\n",
    "print(ON_mean)\n",
    "\n",
    "stats.ttest_ind(IL_bzn['review_count'].tolist(), ON_bzn['review_count'].tolist(), equal_var=False)"
   ]
  },
  {
   "cell_type": "markdown",
   "metadata": {},
   "source": [
    "The two sided t-test pvalue=0.1314223880540059 which is greater than 0.05 significance level therefore we cannot reject the null hypothesis and cannot conclude the mean review_counts for IL and AZ are significantly different."
   ]
  },
  {
   "cell_type": "markdown",
   "metadata": {},
   "source": [
    "Q4"
   ]
  },
  {
   "cell_type": "code",
   "execution_count": null,
   "metadata": {},
   "outputs": [],
   "source": [
    "open_less = business_df[(business_df['is_open'] == 1) & (business_df['review_count'] <= 20)].shape[0]\n",
    "open_greater = business_df[(business_df['is_open'] == 1) & (business_df['review_count'] > 20)].shape[0]\n",
    "closed_less = business_df[(business_df['is_open'] == 0) & (business_df['review_count'] <= 20)].shape[0]\n",
    "closed_greater = business_df[(business_df['is_open'] == 0) & (business_df['review_count'] > 20)].shape[0]\n",
    "\n",
    "print(open_less, open_greater, closed_less, closed_greater)\n",
    "\n",
    "col1 = open_less + open_greater\n",
    "col2 = closed_less + closed_greater\n",
    "row1 = open_less + closed_less\n",
    "row2 = open_greater + closed_greater\n",
    "total = open_less + open_greater + closed_less + closed_greater\n",
    "\n",
    "a = row1 * col1 / total\n",
    "b = row1 * col2 / total\n",
    "c = row2 * col1 / total\n",
    "d = row2 * col2 / total\n",
    "\n",
    "observed = [open_less, open_greater, closed_less, closed_greater]\n",
    "expected = [a, b, c, d]\n",
    "\n",
    "stats.chisquare(observed, expected, ddof=1)"
   ]
  },
  {
   "cell_type": "markdown",
   "metadata": {},
   "source": [
    "The chi square pvalue < 0.001 therefore we can reject the null hypothesis and cannot conclude that the two events (business closing and reviews<20) are dependent."
   ]
  },
  {
   "cell_type": "code",
   "execution_count": null,
   "metadata": {},
   "outputs": [],
   "source": [
    "open_less = business_df[(business_df['is_open'] == 1) & (business_df['stars'] <= 2.5)].shape[0]\n",
    "open_greater = business_df[(business_df['is_open'] == 1) & (business_df['stars'] > 2.5)].shape[0]\n",
    "closed_less = business_df[(business_df['is_open'] == 0) & (business_df['stars'] <= 2.5)].shape[0]\n",
    "closed_greater = business_df[(business_df['is_open'] == 0) & (business_df['stars'] > 2.5)].shape[0]\n",
    "\n",
    "print(open_less, open_greater, closed_less, closed_greater)\n",
    "\n",
    "col1 = open_less + open_greater\n",
    "col2 = closed_less + closed_greater\n",
    "row1 = open_less + closed_less\n",
    "row2 = open_greater + closed_greater\n",
    "total = open_less + open_greater + closed_less + closed_greater\n",
    "\n",
    "a = row1 * col1 / total\n",
    "b = row1 * col2 / total\n",
    "c = row2 * col1 / total\n",
    "d = row2 * col2 / total\n",
    "\n",
    "observed = [open_less, open_greater, closed_less, closed_greater]\n",
    "expected = [a, b, c, d]\n",
    "\n",
    "print(stats.chisquare(observed, expected, ddof=1))"
   ]
  },
  {
   "cell_type": "markdown",
   "metadata": {},
   "source": [
    "The chi square pvalue < 0.001 therefore we can reject the null hypothesis and cannot conclude that the two events (business closing and reviews<20) are dependent."
   ]
  },
  {
   "cell_type": "markdown",
   "metadata": {},
   "source": [
    "Q5"
   ]
  },
  {
   "cell_type": "code",
   "execution_count": 2,
   "metadata": {},
   "outputs": [],
   "source": [
    "user_data = []\n",
    "for l in open(\"user.json\").readlines():\n",
    "    line = json.loads(l)\n",
    "    user_data.append(line)\n",
    "# users = pd.read_json (\"user.json\", lines=True)"
   ]
  },
  {
   "cell_type": "code",
   "execution_count": 3,
   "metadata": {},
   "outputs": [],
   "source": [
    "review_counts = []\n",
    "fan_counts = []\n",
    "useful_counts = []\n",
    "funny_counts = []\n",
    "\n",
    "for user in user_data:\n",
    "    review_counts.append(user['review_count'])\n",
    "    fan_counts.append(user['fans'])\n",
    "    useful_counts.append(user['useful'])\n",
    "    funny_counts.append(user['funny'])"
   ]
  },
  {
   "cell_type": "code",
   "execution_count": 4,
   "metadata": {},
   "outputs": [
    {
     "name": "stdout",
     "output_type": "stream",
     "text": [
      "Pearson: 0.5506816309257403 0.9647129071745486 0.7026543853857063\n",
      "Spearman: 0.5386287759112771 0.7813877781869568 0.5530478606753861\n"
     ]
    }
   ],
   "source": [
    "pearson_r1, pearson_pval1 = stats.pearsonr(review_counts, fan_counts)\n",
    "pearson_r2, pearson_pval2 = stats.pearsonr(useful_counts, funny_counts)\n",
    "pearson_r3, pearson_pval3 = stats.pearsonr(useful_counts, fan_counts)\n",
    "\n",
    "print('Pearson:', pearson_r1, pearson_r2, pearson_r3)\n",
    "\n",
    "spearman1, p1 = stats.spearmanr(review_counts, fan_counts)\n",
    "spearman2, p2 = stats.spearmanr(useful_counts, funny_counts)\n",
    "spearman3, p3 = stats.spearmanr(useful_counts, fan_counts)\n",
    "\n",
    "print('Spearman:', spearman1, spearman2, spearman3)"
   ]
  },
  {
   "cell_type": "markdown",
   "metadata": {},
   "source": [
    "Reviews vs. Fans\n",
    "\n",
    "    Pearson = 0.5506816309257403\n",
    "    Spearman = 0.5386287759112771\n",
    "\n",
    "Useful vs. Funny\n",
    "\n",
    "    Pearson = 0.9647129071745486\n",
    "    Spearman = 0.7813877781869568\n",
    "\n",
    "Useful vs. Fans\n",
    "\n",
    "    Pearson = 0.7026543853857063\n",
    "    Spearman = 0.5530478606753861"
   ]
  },
  {
   "cell_type": "code",
   "execution_count": null,
   "metadata": {},
   "outputs": [],
   "source": []
  }
 ],
 "metadata": {
  "kernelspec": {
   "display_name": "Python 3",
   "language": "python",
   "name": "python3"
  },
  "language_info": {
   "codemirror_mode": {
    "name": "ipython",
    "version": 3
   },
   "file_extension": ".py",
   "mimetype": "text/x-python",
   "name": "python",
   "nbconvert_exporter": "python",
   "pygments_lexer": "ipython3",
   "version": "3.7.4"
  }
 },
 "nbformat": 4,
 "nbformat_minor": 2
}
