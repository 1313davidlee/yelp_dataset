{
 "cells": [
  {
   "cell_type": "code",
   "execution_count": 21,
   "metadata": {},
   "outputs": [],
   "source": [
    "from sklearn.linear_model import LinearRegression\n",
    "from sklearn.model_selection import cross_val_score\n",
    "from sklearn import ensemble\n",
    "from sklearn.model_selection import GridSearchCV\n",
    "\n",
    "\n",
    "import numpy as np\n",
    "\n",
    "from sklearn import datasets\n"
   ]
  },
  {
   "cell_type": "code",
   "execution_count": 17,
   "metadata": {},
   "outputs": [],
   "source": [
    "# load data\n",
    "cal = datasets.fetch_california_housing()\n",
    "data = cal['data']\n",
    "targets = cal['target']"
   ]
  },
  {
   "cell_type": "code",
   "execution_count": 20,
   "metadata": {},
   "outputs": [
    {
     "name": "stdout",
     "output_type": "stream",
     "text": [
      "Linear Regression [0.54866323 0.46820691 0.55078434 0.53698703 0.66051406]\n",
      "Boosting [0.60265411 0.69877396 0.7180226  0.65023363 0.67975317]\n"
     ]
    }
   ],
   "source": [
    "# 1a\n",
    "clf = LinearRegression()\n",
    "scores = cross_val_score(clf, data, targets, cv=5)\n",
    "print('Linear Regression', scores)\n",
    "\n",
    "\n",
    "clf = ensemble.GradientBoostingRegressor()\n",
    "scores = cross_val_score(clf, data, targets, cv=5)\n",
    "print('Boosting', scores)"
   ]
  },
  {
   "cell_type": "code",
   "execution_count": null,
   "metadata": {},
   "outputs": [],
   "source": [
    "# 1b\n",
    "tuned_parameters = [{'n_estimators': [],\n",
    "                     'max_depth': [1e-3, 1e-4],\n",
    "                     'learning_rate': [1, 10, 100, 1000]}]\n",
    "{'n_estimators': 500, 'max_depth': 4, 'min_samples_split': 2,\n",
    "          'learning_rate': 0.01, 'loss': 'ls'}"
   ]
  },
  {
   "cell_type": "code",
   "execution_count": null,
   "metadata": {},
   "outputs": [],
   "source": []
  }
 ],
 "metadata": {
  "kernelspec": {
   "display_name": "Python 3",
   "language": "python",
   "name": "python3"
  },
  "language_info": {
   "codemirror_mode": {
    "name": "ipython",
    "version": 3
   },
   "file_extension": ".py",
   "mimetype": "text/x-python",
   "name": "python",
   "nbconvert_exporter": "python",
   "pygments_lexer": "ipython3",
   "version": "3.7.4"
  }
 },
 "nbformat": 4,
 "nbformat_minor": 2
}
